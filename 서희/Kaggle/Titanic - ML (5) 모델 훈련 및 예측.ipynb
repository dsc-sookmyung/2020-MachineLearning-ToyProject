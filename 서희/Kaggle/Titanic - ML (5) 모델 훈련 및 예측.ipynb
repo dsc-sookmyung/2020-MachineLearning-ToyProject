{
 "cells": [
  {
   "cell_type": "markdown",
   "metadata": {},
   "source": [
    "# 캐글 - 타이타닉 생존자 예측하기"
   ]
  },
  {
   "cell_type": "markdown",
   "metadata": {},
   "source": [
    "## (5) 모델 훈련 및 예측"
   ]
  },
  {
   "cell_type": "markdown",
   "metadata": {},
   "source": [
    "## 머신러닝 알고리즘\n",
    "\n",
    "1. Logistic Regression(로지스틱 회귀)\n",
    "2. KNN(K-Neareast Neighbors, 최근접 이웃 알고리즘)\n",
    "3. SVM(Support Vector Machine)\n",
    "4. Naive Bayes Classifier(나이브 베이즈 분류)\n",
    "5. Decision Tree(의사결정트리)\n",
    "6. Random Forest\n",
    "\n",
    "- Perceptorn\n",
    "- Artificial neural network\n",
    "- RVM(Relevance Vector Machine)\n",
    "\n"
   ]
  },
  {
   "cell_type": "markdown",
   "metadata": {},
   "source": [
    "## 참고자료\n",
    "\n",
    "머신러닝 알고리즘 설명\n",
    "https://edu.goorm.io/learn/lecture/4012/%2525EB%2525A8%2525B8%2525EC%25258B%2525A0%2525EB%25259F%2525AC%2525EB%25258B%25259D-%2525EC%25259D%2525B4%2525EB%2525A1%2525A0-%2525EB%2525B0%25258F-%2525ED%25258C%25258C%2525EC%25259D%2525B4%2525EC%25258D%2525AC-%2525EC%25258B%2525A4%2525EC%25258A%2525B5#"
   ]
  },
  {
   "cell_type": "code",
   "execution_count": null,
   "metadata": {},
   "outputs": [],
   "source": []
  }
 ],
 "metadata": {
  "kernelspec": {
   "display_name": "Python 3",
   "language": "python",
   "name": "python3"
  },
  "language_info": {
   "codemirror_mode": {
    "name": "ipython",
    "version": 3
   },
   "file_extension": ".py",
   "mimetype": "text/x-python",
   "name": "python",
   "nbconvert_exporter": "python",
   "pygments_lexer": "ipython3",
   "version": "3.8.5"
  }
 },
 "nbformat": 4,
 "nbformat_minor": 4
}
