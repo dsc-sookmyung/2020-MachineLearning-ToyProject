{
 "cells": [
  {
   "cell_type": "markdown",
   "metadata": {},
   "source": [
    "# 캐글 - 타이타닉 생존자 예측하기"
   ]
  },
  {
   "cell_type": "markdown",
   "metadata": {},
   "source": [
    "Manav Sehgal의 노트북 Titanic Data Science Solutions를 따라하며, 캐글 입문을 하려고 한다. 이 노트북을 통해 데이터 과학 경진대회를 해결하기 위한 일반적인 워크 플로우를 공부할 수 있다. Reference [titanic-data-science-solutions](https://www.kaggle.com/startupsci/titanic-data-science-solutions)"
   ]
  },
  {
   "cell_type": "markdown",
   "metadata": {},
   "source": [
    "## Workflow Stages\n",
    "\n",
    "1. 문제 정의하기\n",
    "2. 데이터 불러오기\n",
    "3. 데이터 분석\n",
    "4. 데이터 전처리\n",
    "5. 모델 훈련 및 예측\n",
    "6. 시각화\n",
    "\n",
    "\n",
    "- 데이터 분석은 데이터 전처리 전과 후, 모두 수행한다. 시각화는 사이사이에 수행한다."
   ]
  },
  {
   "cell_type": "markdown",
   "metadata": {},
   "source": [
    "## (1) 문제 정의하기"
   ]
  },
  {
   "cell_type": "markdown",
   "metadata": {},
   "source": [
    "**Titanic - Machine Learning from Disaster** 은 Getting Started Prediction Competition으로, \n",
    "ML 대회에 처음 도전하고 캐글 플랫폼이 어떻게 작동하는 지 이해하는 데 아주 좋은 대회다."
   ]
  },
  {
   "cell_type": "markdown",
   "metadata": {},
   "source": [
    "머신러닝을 이용하여, 어떤 승객이 타이타닉 난파선에서 살아남았는 지 예측하는 모델을 만드는 것이 이 대회의 목적이다."
   ]
  },
  {
   "cell_type": "markdown",
   "metadata": {},
   "source": [
    "타이타닉에서 살아남았거나 살아남지 못한 승객을 나열한 표본 학습 데이터를 통해,\n",
    "우리 모델은 생존 정보가 포함되지 않은 주어진 테스트 데이터로 승객의 생존여부를 결정할 수 있다."
   ]
  },
  {
   "cell_type": "markdown",
   "metadata": {},
   "source": [
    "Kaggle 대회 설명 페이지에 문제 상황에 대한 정보가 있다.\n",
    "\n",
    "1912년 4월 15일, 첫 항해 중에 타이타닉 호는 빙산과 충돌하여 2224명의 승객과 승무원 중 1502명이 사망했다.\n",
    "32%의 생존률을 의미한다.\n",
    "난파선으로 생명을 잃은 이유 중 하나는 승객과 승무원을 위한 구명정이 충분하지 않았기 때문이다.\n",
    "침몰에서 살아남은 이유중에는 운도 포함되어 있겠지만, \n",
    "여성이나, 아이나, 상류층과 같은 일부 사람들의 생존 가능성이 다른 사람들보다 높았다."
   ]
  },
  {
   "cell_type": "markdown",
   "metadata": {},
   "source": [
    "## Workflow goals\n",
    "\n",
    "__Classifying__ 표본을 분류한다.\n",
    "\n",
    "__Correlating__ 학습 데이터에 있는 특징(feature)과 Solution goal간의 상관관계를 파악하거나, 특징 간의 상관관계를 파악한다.\n",
    "\n",
    "__Converting__ 모델링 단계에서 데이터를 준비할 때, 사용하는 알고리즘에 따라 데이터의 자료형을 바꿔줄 수 있다.\n",
    "\n",
    "__Completing__ 데이터를 준비하는 과정에서, 특징에 누락된 값은 없는 지 추정할 수 있다.\n",
    "\n",
    "__Correcting__ 학습 데이터에 에러나 부정확한 값이 있는 지 분석할 수 있다.\n",
    "\n",
    "__Creating__ 기존의 특징이나 여러 개의 특징 묶음으로 새로운 특징들을 생성할 수 있다.\n",
    "\n",
    "__Charting__ 데이터의 특성이나 solution goals에 따라 올바른 시각화 plot과 chart를 선택하는 방법."
   ]
  },
  {
   "cell_type": "markdown",
   "metadata": {},
   "source": [
    "## 참고자료"
   ]
  },
  {
   "cell_type": "markdown",
   "metadata": {},
   "source": [
    "캐글 노트북\n",
    "https://www.kaggle.com/c/titanic/overview"
   ]
  }
 ],
 "metadata": {
  "kernelspec": {
   "display_name": "Python 3",
   "language": "python",
   "name": "python3"
  },
  "language_info": {
   "codemirror_mode": {
    "name": "ipython",
    "version": 3
   },
   "file_extension": ".py",
   "mimetype": "text/x-python",
   "name": "python",
   "nbconvert_exporter": "python",
   "pygments_lexer": "ipython3",
   "version": "3.8.3"
  }
 },
 "nbformat": 4,
 "nbformat_minor": 4
}
