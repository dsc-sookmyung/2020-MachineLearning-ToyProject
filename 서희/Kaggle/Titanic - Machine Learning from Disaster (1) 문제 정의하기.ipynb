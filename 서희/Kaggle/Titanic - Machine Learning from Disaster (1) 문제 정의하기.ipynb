{
 "cells": [
  {
   "cell_type": "markdown",
   "metadata": {},
   "source": [
    "# 캐글 - 타이타닉 생존자 예측하기"
   ]
  },
  {
   "cell_type": "markdown",
   "metadata": {},
   "source": [
    "## (1) 문제 정의하기"
   ]
  },
  {
   "cell_type": "markdown",
   "metadata": {},
   "source": [
    "Titanic - Machine Learning from Disaster 은 Getting Started Prediction Competition으로, \n",
    "ML 대회에 처음 도전하고 캐글 플랫폼이 어떻게 작동하는 지 이해하는 데 아주 좋은 대회다."
   ]
  },
  {
   "cell_type": "markdown",
   "metadata": {},
   "source": [
    "머신러닝을 이용하여, 어떤 승객이 타이타닉 난파선에서 살아남았는 지 예측하는 모델을 만드는 것이 이 대회의 목적이다."
   ]
  },
  {
   "cell_type": "markdown",
   "metadata": {},
   "source": [
    "## Workflow goals\n",
    "\n",
    "__Classifying__ 샘플을 분류한다.\n",
    "\n",
    "__Correlating__ 훈련 데이터셋에 있는 feature와 Solution goal간의 상관관계를 파악하거나, feature 간의 상관관계를 파악한다.\n",
    "\n",
    "__Converting__ 모델링 단계에서 데이터를 준비할 때, 사용하는 알고리즘에 따라 데이터의 자료형을 바꿔줄 수 있다.\n",
    "\n",
    "__Completing__ 데이터를 준비하는 과정에서, feature에 누락된 값은 없는 지 추정할 수 있다.\n",
    "\n",
    "__Correcting__ 훈련 데이터셋에 에러나 부정확한 값이 있는 지 분석할 수 있다.\n",
    "\n",
    "__Creating__ 기존 feature나 여러 개의 feature의 묶음으로 새로운 feature들을 생성할 수 있다.\n",
    "\n",
    "__Charting__ 데이터의 특성이나 solution goals에 따라 올바른 시각화 plot과 chart를 선택하는 방법."
   ]
  },
  {
   "cell_type": "markdown",
   "metadata": {},
   "source": [
    "## 필요한 모듈"
   ]
  },
  {
   "cell_type": "code",
   "execution_count": 5,
   "metadata": {},
   "outputs": [
    {
     "ename": "IndentationError",
     "evalue": "unexpected indent (<ipython-input-5-b938391c4808>, line 2)",
     "output_type": "error",
     "traceback": [
      "\u001b[1;36m  File \u001b[1;32m\"<ipython-input-5-b938391c4808>\"\u001b[1;36m, line \u001b[1;32m2\u001b[0m\n\u001b[1;33m    import pandas as pd\u001b[0m\n\u001b[1;37m    ^\u001b[0m\n\u001b[1;31mIndentationError\u001b[0m\u001b[1;31m:\u001b[0m unexpected indent\n"
     ]
    }
   ],
   "source": [
    "# data analysis and wrangling\n",
    "  import pandas as pd\n",
    "  import numpy as np\n",
    "  import random as rnd\n",
    "\n",
    "  # visualization\n",
    "  import seaborn as sns\n",
    "  import matplotlib.pyplot as plt\n",
    "  %matplotlib inline\n",
    "\n",
    "  # machine learning\n",
    "  from sklearn.linear_model import LogisticRegression\n",
    "  from sklearn.svm import SVC, LinearSVC\n",
    "  from sklearn.ensemble import RandomForestClassifier\n",
    "  from sklearn.neighbors import KNeighborsClassifier\n",
    "  from sklearn.naive_bayes import GaussianNB\n",
    "  from sklearn.linear_model import Perceptron\n",
    "  from sklearn.linear_model import SGDClassifier\n",
    "  from sklearn.tree import DecisionTreeClassifier"
   ]
  },
  {
   "cell_type": "code",
   "execution_count": null,
   "metadata": {},
   "outputs": [],
   "source": []
  }
 ],
 "metadata": {
  "kernelspec": {
   "display_name": "Python 3",
   "language": "python",
   "name": "python3"
  },
  "language_info": {
   "codemirror_mode": {
    "name": "ipython",
    "version": 3
   },
   "file_extension": ".py",
   "mimetype": "text/x-python",
   "name": "python",
   "nbconvert_exporter": "python",
   "pygments_lexer": "ipython3",
   "version": "3.8.3"
  }
 },
 "nbformat": 4,
 "nbformat_minor": 4
}
