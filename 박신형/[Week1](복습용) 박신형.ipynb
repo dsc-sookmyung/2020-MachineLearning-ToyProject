{
 "cells": [
  {
   "cell_type": "markdown",
   "metadata": {},
   "source": [
    "## 과제 1 : [연산자 끼워넣기](https://www.acmicpc.net/problem/14888)"
   ]
  },
  {
   "cell_type": "markdown",
   "metadata": {},
   "source": [
    "> __백준 문제 14888번 문제를 파이썬으로 풀고, 제출한 소스코드를 붙여넣으시면 됩니다.__"
   ]
  },
  {
   "cell_type": "markdown",
   "metadata": {},
   "source": [
    "### 1 ). itertools 이란\n",
    "    A B C 3개의 문자가 주어졌을때,\n",
    "    순열 : AB, AC, BA, BC, CA, CB\n",
    "    조합 : AB, AC, BC"
   ]
  },
  {
   "cell_type": "code",
   "execution_count": 5,
   "metadata": {},
   "outputs": [
    {
     "name": "stdout",
     "output_type": "stream",
     "text": [
      "순열 : [('A', 'B'), ('A', 'C'), ('B', 'A'), ('B', 'C'), ('C', 'A'), ('C', 'B')]\n",
      "조합 : [('A', 'B'), ('A', 'C'), ('B', 'C')]\n"
     ]
    }
   ],
   "source": [
    "import itertools\n",
    "\n",
    "chars = ['A','B','C']\n",
    "\n",
    "p = itertools.permutations(chars,2) # 순열\n",
    "print(\"순열 :\",list(p))\n",
    "c = itertools.combinations(chars,2) # 조합\n",
    "print(\"조합 :\",list(c))"
   ]
  },
  {
   "cell_type": "markdown",
   "metadata": {},
   "source": [
    "### 2 ). OrderedDict\n",
    "    딕셔너리를 넣을때 들어간 순서를 보장해주는 것"
   ]
  },
  {
   "cell_type": "code",
   "execution_count": 6,
   "metadata": {},
   "outputs": [
    {
     "data": {
      "text/plain": [
       "{'a': 'app', 'b': 'bow', 'c': 'cow'}"
      ]
     },
     "execution_count": 6,
     "metadata": {},
     "output_type": "execute_result"
    }
   ],
   "source": [
    "d = dict()\n",
    "d['a'] = 'app'\n",
    "d['b'] = 'bow'\n",
    "d['c'] = 'cow'\n",
    "d"
   ]
  },
  {
   "cell_type": "code",
   "execution_count": 7,
   "metadata": {},
   "outputs": [
    {
     "data": {
      "text/plain": [
       "{'a': 'app', 'b': 'bow', 'c': 'cow', 'd': 'doc', 'e': 'err', 'f': 'fly'}"
      ]
     },
     "execution_count": 7,
     "metadata": {},
     "output_type": "execute_result"
    }
   ],
   "source": [
    "keys = ['a','b','c','d','e','f']\n",
    "vals = ['app','bow','cow','doc','err','fly','gpu']\n",
    "d = {key:val for key, val in zip(keys, vals)}\n",
    "d"
   ]
  },
  {
   "cell_type": "code",
   "execution_count": 8,
   "metadata": {},
   "outputs": [
    {
     "data": {
      "text/plain": [
       "OrderedDict([('a', 'app'), ('b', 'bow'), ('c', 'cow')])"
      ]
     },
     "execution_count": 8,
     "metadata": {},
     "output_type": "execute_result"
    }
   ],
   "source": [
    "from collections import OrderedDict\n",
    "d = OrderedDict()\n",
    "d['a'] = 'app'\n",
    "d['b'] = 'bow'\n",
    "d['c'] = 'cow'\n",
    "d"
   ]
  },
  {
   "cell_type": "code",
   "execution_count": 2,
   "metadata": {},
   "outputs": [
    {
     "name": "stdout",
     "output_type": "stream",
     "text": [
      "6\n",
      "1, 2, 3, 4, 5, 6\n",
      "2 1 1 1\n",
      "54\n",
      "-24\n"
     ]
    }
   ],
   "source": [
    "from itertools import permutations\n",
    "\n",
    "n = int(input())\n",
    "number = list(map(lambda x: int(x),input().split(',')))\n",
    "oper = list(map(lambda x:int(x), input().split()))\n",
    "\n",
    "oper_list=[]\n",
    "for i in range(4):\n",
    "    oper_list+=[i]*oper[i]\n",
    "\n",
    "oper_list_perm = list(set(permutations(oper_list)))\n",
    "maxnum = -100000001\n",
    "minnum = 100000001\n",
    "\n",
    "for a in oper_list_perm:\n",
    "    sumnum = number[0]\n",
    "    for b in range(n-1):\n",
    "        if a[b]==0 : sumnum+=number[b+1]\n",
    "        elif a[b]==1: sumnum-=number[b+1]\n",
    "        elif a[b]==2: sumnum*=number[b+1]\n",
    "        elif a[b]==3: sumnum = int(sumnum/number[b+1])\n",
    "    maxnum = max(maxnum, sumnum)\n",
    "    minnum = min(minnum, sumnum)\n",
    "    \n",
    "print(maxnum)\n",
    "print(minnum)"
   ]
  },
  {
   "cell_type": "code",
   "execution_count": null,
   "metadata": {},
   "outputs": [],
   "source": []
  }
 ],
 "metadata": {
  "kernelspec": {
   "display_name": "Python 3",
   "language": "python",
   "name": "python3"
  },
  "language_info": {
   "codemirror_mode": {
    "name": "ipython",
    "version": 3
   },
   "file_extension": ".py",
   "mimetype": "text/x-python",
   "name": "python",
   "nbconvert_exporter": "python",
   "pygments_lexer": "ipython3",
   "version": "3.7.9"
  }
 },
 "nbformat": 4,
 "nbformat_minor": 4
}
