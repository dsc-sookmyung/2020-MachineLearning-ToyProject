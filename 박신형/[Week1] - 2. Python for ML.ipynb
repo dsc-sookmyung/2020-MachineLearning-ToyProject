{
 "cells": [
  {
   "cell_type": "markdown",
   "metadata": {},
   "source": [
    "# 머신러닝 1주차 과제\n",
    "### ※ 참고 영상 : [[부스트코스] 머신러닝을 위한 파이썬](https://www.edwith.org/aipython/lecture/22951/)\n",
    "* 1) Pythonic Code\n",
    "* 2) Python for ML\n",
    "* 3) Data Handling"
   ]
  }
 ],
 "metadata": {
  "kernelspec": {
   "display_name": "Python 3",
   "language": "python",
   "name": "python3"
  },
  "language_info": {
   "codemirror_mode": {
    "name": "ipython",
    "version": 3
   },
   "file_extension": ".py",
   "mimetype": "text/x-python",
   "name": "python",
   "nbconvert_exporter": "python",
   "pygments_lexer": "ipython3",
   "version": "3.7.9"
  }
 },
 "nbformat": 4,
 "nbformat_minor": 4
}
