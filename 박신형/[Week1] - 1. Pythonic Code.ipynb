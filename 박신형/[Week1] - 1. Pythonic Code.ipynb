{
 "cells": [
  {
   "cell_type": "markdown",
   "metadata": {},
   "source": [
    "# 머신러닝 1주차 과제\n",
    "### ※ 참고 영상 : [[부스트코스] 머신러닝을 위한 파이썬](https://www.edwith.org/aipython/lecture/22951/)\n",
    "* 1) Pythonic Code\n",
    "* 2) Python for ML\n",
    "* 3) Data Handling"
   ]
  },
  {
   "cell_type": "markdown",
   "metadata": {},
   "source": [
    "## 1 ). Pythonic Code"
   ]
  },
  {
   "cell_type": "markdown",
   "metadata": {},
   "source": [
    "#### 1. 여러 단어를 하나로 붙을 때"
   ]
  },
  {
   "cell_type": "code",
   "execution_count": 1,
   "metadata": {},
   "outputs": [
    {
     "name": "stdout",
     "output_type": "stream",
     "text": [
      "red blue green yellow \n"
     ]
    }
   ],
   "source": [
    "colors = ['red','blue','green','yellow']\n",
    "result = ''\n",
    "for i in colors:\n",
    "    result+=i+' '\n",
    "print(result)"
   ]
  },
  {
   "cell_type": "code",
   "execution_count": 2,
   "metadata": {},
   "outputs": [
    {
     "name": "stdout",
     "output_type": "stream",
     "text": [
      "redbluegreenyellow\n"
     ]
    }
   ],
   "source": [
    "result = ' '\n",
    "result = ''.join(colors)\n",
    "print(result)"
   ]
  },
  {
   "cell_type": "markdown",
   "metadata": {},
   "source": [
    "#### 2. Split 함수 : String Type 의 값을 나눠서<b> List </b>형태로 변환"
   ]
  },
  {
   "cell_type": "code",
   "execution_count": 3,
   "metadata": {},
   "outputs": [
    {
     "name": "stdout",
     "output_type": "stream",
     "text": [
      "['zero', 'one', 'two', 'three']\n"
     ]
    }
   ],
   "source": [
    "items = 'zero one two three'.split(' ')\n",
    "print(items)"
   ]
  },
  {
   "cell_type": "code",
   "execution_count": 4,
   "metadata": {},
   "outputs": [
    {
     "data": {
      "text/plain": [
       "('python', ' jquery', ' javascript')"
      ]
     },
     "execution_count": 4,
     "metadata": {},
     "output_type": "execute_result"
    }
   ],
   "source": [
    "example = 'python, jquery, javascript'\n",
    "a, b, c = example.split(',')\n",
    "a, b, c"
   ]
  },
  {
   "cell_type": "markdown",
   "metadata": {},
   "source": [
    "#### 3. Join 함수 : String List를 묶어서 String으로 반환"
   ]
  },
  {
   "cell_type": "code",
   "execution_count": 5,
   "metadata": {},
   "outputs": [
    {
     "data": {
      "text/plain": [
       "'red blue green yellow'"
      ]
     },
     "execution_count": 5,
     "metadata": {},
     "output_type": "execute_result"
    }
   ],
   "source": [
    "colors = ['red','blue','green','yellow']\n",
    "result = ' '.join(colors)\n",
    "result"
   ]
  },
  {
   "cell_type": "markdown",
   "metadata": {},
   "source": [
    "#### 4. List comprehensions\n",
    "* 기준 List 사용하여 간단힌 다른 List를 만드는 기법\n",
    "* 일반적으로for + append 보다 속도가 빠름"
   ]
  },
  {
   "cell_type": "code",
   "execution_count": 6,
   "metadata": {},
   "outputs": [
    {
     "data": {
      "text/plain": [
       "[0, 1, 2, 3, 4, 5, 6, 7, 8, 9]"
      ]
     },
     "execution_count": 6,
     "metadata": {},
     "output_type": "execute_result"
    }
   ],
   "source": [
    "result = []\n",
    "for i in range(10):\n",
    "    result.append(i)\n",
    "result"
   ]
  },
  {
   "cell_type": "code",
   "execution_count": 7,
   "metadata": {},
   "outputs": [
    {
     "data": {
      "text/plain": [
       "[0, 1, 2, 3, 4, 5, 6, 7, 8, 9]"
      ]
     },
     "execution_count": 7,
     "metadata": {},
     "output_type": "execute_result"
    }
   ],
   "source": [
    "result = [ i for i in range(10)]\n",
    "result"
   ]
  },
  {
   "cell_type": "code",
   "execution_count": 8,
   "metadata": {},
   "outputs": [
    {
     "data": {
      "text/plain": [
       "[0, 2, 4, 6, 8]"
      ]
     },
     "execution_count": 8,
     "metadata": {},
     "output_type": "execute_result"
    }
   ],
   "source": [
    "result = [i for i in range(10) if i%2 == 0 ]\n",
    "# 이런식으로 조건문도 포함해서 사용할 수 있다\n",
    "result"
   ]
  },
  {
   "cell_type": "code",
   "execution_count": 9,
   "metadata": {},
   "outputs": [
    {
     "name": "stdout",
     "output_type": "stream",
     "text": [
      "['HW', 'Ho', 'Hr', 'Hl', 'Hd', 'eW', 'eo', 'er', 'el', 'ed', 'lW', 'lo', 'lr', 'll', 'ld', 'lW', 'lo', 'lr', 'll', 'ld', 'oW', 'oo', 'or', 'ol', 'od']\n"
     ]
    }
   ],
   "source": [
    "word_1 = \"Hello\"\n",
    "word_2 = \"World\"\n",
    "result = [a+b for a in word_1 for b in word_2]\n",
    "print(result)"
   ]
  },
  {
   "cell_type": "code",
   "execution_count": 10,
   "metadata": {},
   "outputs": [
    {
     "name": "stdout",
     "output_type": "stream",
     "text": [
      "['AD', 'AE', 'AA', 'BD', 'BE', 'BA', 'CD', 'CE', 'CA']\n"
     ]
    }
   ],
   "source": [
    "case_1 = ['A','B','C']\n",
    "case_2 = ['D','E','A']\n",
    "result = [a+b for a in case_1  for b in case_2]\n",
    "print(result)\n",
    "# 당연히 case_!부터 시작하게 된다"
   ]
  },
  {
   "cell_type": "code",
   "execution_count": 11,
   "metadata": {},
   "outputs": [
    {
     "name": "stdout",
     "output_type": "stream",
     "text": [
      "['AD', 'AE', 'BD', 'BE', 'BA', 'CD', 'CE', 'CA']\n"
     ]
    }
   ],
   "source": [
    "result = [a+b for a in case_1 for b in case_2 if not (a==b)]\n",
    "print(result)"
   ]
  },
  {
   "cell_type": "code",
   "execution_count": 12,
   "metadata": {},
   "outputs": [
    {
     "name": "stdout",
     "output_type": "stream",
     "text": [
      "['AD', 'AE', 'BA', 'BD', 'BE', 'CA', 'CD', 'CE']\n"
     ]
    }
   ],
   "source": [
    "result.sort()\n",
    "print(result)"
   ]
  },
  {
   "cell_type": "code",
   "execution_count": 13,
   "metadata": {},
   "outputs": [
    {
     "name": "stdout",
     "output_type": "stream",
     "text": [
      "[['AD', 'BD', 'CD'], ['AE', 'BE', 'CE'], ['AA', 'BA', 'CA']]\n"
     ]
    }
   ],
   "source": [
    "case_1 = ['A','B','C']\n",
    "case_2 = ['D','E','A']\n",
    "result = [[a+b for a in case_1]  for b in case_2]\n",
    "print(result)\n",
    "# 그러면 당연히 case_2부터 시작하게 된다"
   ]
  },
  {
   "cell_type": "code",
   "execution_count": 14,
   "metadata": {},
   "outputs": [
    {
     "data": {
      "text/plain": [
       "[['THE', 'the', 3],\n",
       " ['QUICK', 'quick', 5],\n",
       " ['BROWN', 'brown', 5],\n",
       " ['FOX', 'fox', 3],\n",
       " ['JUMPS', 'jumps', 5],\n",
       " ['OVER', 'over', 4],\n",
       " ['THE', 'the', 3],\n",
       " ['LAZY', 'lazy', 4],\n",
       " ['DOG', 'dog', 3]]"
      ]
     },
     "execution_count": 14,
     "metadata": {},
     "output_type": "execute_result"
    }
   ],
   "source": [
    "words = 'The quick brown fox jumps over the lazy dog'.split(' ')\n",
    "stuff = [[w.upper(), w.lower(), len(w)] for w in words]\n",
    "stuff"
   ]
  },
  {
   "cell_type": "markdown",
   "metadata": {},
   "source": [
    "#### 5. Enumerate : List의 element를 추출할 때 번호를 붙여서 추출"
   ]
  },
  {
   "cell_type": "code",
   "execution_count": 15,
   "metadata": {},
   "outputs": [
    {
     "name": "stdout",
     "output_type": "stream",
     "text": [
      "0 tic\n",
      "1 tac\n",
      "2 toe\n"
     ]
    }
   ],
   "source": [
    "for i, v in enumerate(['tic','tac','toe']):\n",
    "    print(i,v)"
   ]
  },
  {
   "cell_type": "code",
   "execution_count": 16,
   "metadata": {},
   "outputs": [
    {
     "data": {
      "text/plain": [
       "[(0, 'a'), (1, 'b'), (2, 'c'), (3, 'd')]"
      ]
     },
     "execution_count": 16,
     "metadata": {},
     "output_type": "execute_result"
    }
   ],
   "source": [
    "mylist = ['a','b','c','d']\n",
    "list(enumerate(mylist))\n",
    "# 리스트로 반환"
   ]
  },
  {
   "cell_type": "code",
   "execution_count": 17,
   "metadata": {},
   "outputs": [
    {
     "name": "stdout",
     "output_type": "stream",
     "text": [
      "{0: 'Gachon', 1: 'University', 2: 'is', 3: 'an', 4: 'academic', 5: 'institute', 6: 'located', 7: 'in', 8: 'South', 9: 'Korea.'}\n"
     ]
    }
   ],
   "source": [
    "# 딕셔너니로 출력할 수 있도록 함\n",
    "dict = { i : j for i,j in enumerate('Gachon University is an academic institute located in South Korea.'.split())}\n",
    "print(dict)"
   ]
  },
  {
   "cell_type": "markdown",
   "metadata": {},
   "source": [
    "#### 6. Zip : 두 개의 list의 값을 병렬적으로 추출함"
   ]
  },
  {
   "cell_type": "code",
   "execution_count": 18,
   "metadata": {},
   "outputs": [
    {
     "name": "stdout",
     "output_type": "stream",
     "text": [
      "a1 b1\n",
      "a2 b2\n",
      "a3 b3\n"
     ]
    }
   ],
   "source": [
    "alist = ['a1','a2','a3']\n",
    "blist = ['b1','b2','b3']\n",
    "for a,b in zip(alist, blist):\n",
    "    print(a+' '+b)"
   ]
  },
  {
   "cell_type": "code",
   "execution_count": 19,
   "metadata": {},
   "outputs": [
    {
     "data": {
      "text/plain": [
       "((1, 10, 100), (2, 20, 200), (3, 30, 300))"
      ]
     },
     "execution_count": 19,
     "metadata": {},
     "output_type": "execute_result"
    }
   ],
   "source": [
    "a,b,c = zip((1,2,3),(10,20,30),(100,200,300))\n",
    "a, b, c\n",
    "# 이런식으로 앞에서부터 차례로 묶어짐"
   ]
  },
  {
   "cell_type": "code",
   "execution_count": 20,
   "metadata": {},
   "outputs": [
    {
     "data": {
      "text/plain": [
       "[111, 222, 333]"
      ]
     },
     "execution_count": 20,
     "metadata": {},
     "output_type": "execute_result"
    }
   ],
   "source": [
    "[ sum(x) for x in zip((1,2,3),(10,20,30),(100,200,300))]"
   ]
  },
  {
   "cell_type": "code",
   "execution_count": 21,
   "metadata": {},
   "outputs": [
    {
     "name": "stdout",
     "output_type": "stream",
     "text": [
      "0 a1 b1\n",
      "1 a2 b2\n",
      "2 a3 b3\n"
     ]
    }
   ],
   "source": [
    "alist = ['a1','a2','a3']\n",
    "blist = ['b1','b2','b3']\n",
    "for i , (a,b) in enumerate(zip(alist,blist)):\n",
    "    print(i, a, b)"
   ]
  },
  {
   "cell_type": "markdown",
   "metadata": {},
   "source": [
    "#### 7. Lambda : 함수 이름 없이 함수 처럼 쓸 수 있는 익명함수"
   ]
  },
  {
   "cell_type": "code",
   "execution_count": 22,
   "metadata": {},
   "outputs": [
    {
     "name": "stdout",
     "output_type": "stream",
     "text": [
      "5\n"
     ]
    }
   ],
   "source": [
    "def f(x,y):\n",
    "    return x+y\n",
    "print(f(1,4))"
   ]
  },
  {
   "cell_type": "code",
   "execution_count": 23,
   "metadata": {},
   "outputs": [
    {
     "name": "stdout",
     "output_type": "stream",
     "text": [
      "5\n"
     ]
    }
   ],
   "source": [
    "f = lambda x,y : x+y\n",
    "print(f(1,4))\n",
    "# lambda 뒤에는 매개변수 : return 값"
   ]
  },
  {
   "cell_type": "code",
   "execution_count": 24,
   "metadata": {},
   "outputs": [
    {
     "name": "stdout",
     "output_type": "stream",
     "text": [
      "9\n"
     ]
    }
   ],
   "source": [
    "f = lambda x : x**2\n",
    "print(f(3))"
   ]
  },
  {
   "cell_type": "markdown",
   "metadata": {},
   "source": [
    "#### 8. Map function : Sequence 자료형 각 element에 동일한 function을 적용함\n",
    "* map(function_name, list_data)"
   ]
  },
  {
   "cell_type": "code",
   "execution_count": 25,
   "metadata": {},
   "outputs": [
    {
     "name": "stdout",
     "output_type": "stream",
     "text": [
      "[1, 4, 9, 16, 25]\n"
     ]
    }
   ],
   "source": [
    "ex = [1,2,3,4,5]\n",
    "f = lambda x : x**2\n",
    "print(list(map(f,ex)))"
   ]
  },
  {
   "cell_type": "code",
   "execution_count": 26,
   "metadata": {},
   "outputs": [
    {
     "name": "stdout",
     "output_type": "stream",
     "text": [
      "[2, 4, 6, 8, 10]\n"
     ]
    }
   ],
   "source": [
    "f = lambda x,y:x+y\n",
    "print(list(map(f,ex,ex)))"
   ]
  },
  {
   "cell_type": "code",
   "execution_count": 27,
   "metadata": {},
   "outputs": [
    {
     "data": {
      "text/plain": [
       "[1, 4, 3, 16, 5]"
      ]
     },
     "execution_count": 27,
     "metadata": {},
     "output_type": "execute_result"
    }
   ],
   "source": [
    "list(map(lambda x:x**2 if x%2==0 else x,ex))"
   ]
  },
  {
   "cell_type": "code",
   "execution_count": 28,
   "metadata": {},
   "outputs": [
    {
     "data": {
      "text/plain": [
       "['홀수', '짝수', '홀수', '짝수', '홀수']"
      ]
     },
     "execution_count": 28,
     "metadata": {},
     "output_type": "execute_result"
    }
   ],
   "source": [
    "list(map(lambda x:\"홀수\" if not x%2==0 else \"짝수\",ex))"
   ]
  },
  {
   "cell_type": "code",
   "execution_count": 29,
   "metadata": {},
   "outputs": [
    {
     "data": {
      "text/plain": [
       "[1, 4, 9, 16, 25]"
      ]
     },
     "execution_count": 29,
     "metadata": {},
     "output_type": "execute_result"
    }
   ],
   "source": [
    "[value**2 for value in ex]"
   ]
  },
  {
   "cell_type": "markdown",
   "metadata": {},
   "source": [
    "#### 9. Reduce function : map function과 달리 list에 똑같은 함수를 적용해서 통합"
   ]
  },
  {
   "cell_type": "code",
   "execution_count": 30,
   "metadata": {},
   "outputs": [
    {
     "name": "stdout",
     "output_type": "stream",
     "text": [
      "15\n"
     ]
    }
   ],
   "source": [
    "from functools import reduce\n",
    "print(reduce(lambda x,y:x+y,[1,2,3,4,5]))\n",
    "# 1+2+3+4+5"
   ]
  },
  {
   "cell_type": "code",
   "execution_count": 31,
   "metadata": {},
   "outputs": [
    {
     "name": "stdout",
     "output_type": "stream",
     "text": [
      "[2, 4, 6, 8, 10]\n"
     ]
    }
   ],
   "source": [
    "print(list(map(lambda x,y:x+y,[1,2,3,4,5],[1,2,3,4,5])))"
   ]
  },
  {
   "cell_type": "code",
   "execution_count": 32,
   "metadata": {},
   "outputs": [
    {
     "data": {
      "text/plain": [
       "120"
      ]
     },
     "execution_count": 32,
     "metadata": {},
     "output_type": "execute_result"
    }
   ],
   "source": [
    "def factorial(n):\n",
    "    return reduce(lambda x,y:x*y, range(1,n+1))\n",
    "factorial(5)"
   ]
  },
  {
   "cell_type": "markdown",
   "metadata": {},
   "source": [
    "#### 10. Asterisk : 흔히 알고 있는 * 을 의미함\n",
    "* 가변인자 : 인자를 여러개를 한번에 전달해줄때 사용"
   ]
  },
  {
   "cell_type": "code",
   "execution_count": 33,
   "metadata": {},
   "outputs": [
    {
     "name": "stdout",
     "output_type": "stream",
     "text": [
      "1 (2, 3, 4, 5, 6)\n",
      "<class 'tuple'>\n"
     ]
    }
   ],
   "source": [
    "def asterisk_test(a, *args):\n",
    "    print(a,args)\n",
    "    print(type(args))\n",
    "asterisk_test(1,2,3,4,5,6)"
   ]
  },
  {
   "cell_type": "code",
   "execution_count": 34,
   "metadata": {},
   "outputs": [
    {
     "name": "stdout",
     "output_type": "stream",
     "text": [
      "1 {'b': 2, 'c': 3, 'd': 4, 'e': 5, 'f': 6}\n",
      "<class 'dict'>\n"
     ]
    }
   ],
   "source": [
    "# 키워드 인자를 넘겨줄때는 ** 별이 2개여야 한다\n",
    "def asterisk_test(a, **kargs):\n",
    "    print(a, kargs)\n",
    "    print(type(kargs))\n",
    "asterisk_test(1,b=2,c=3,d=4,e=5,f=6)"
   ]
  },
  {
   "cell_type": "markdown",
   "metadata": {},
   "source": [
    "* Asterisk - unpacking a containter\n",
    "    1. tuple, dict 등 자료형에 들어가 있는 값을 unpacking\n",
    "    2. 함수의 입력값, zip등에 유용하게 사용가능"
   ]
  },
  {
   "cell_type": "code",
   "execution_count": 35,
   "metadata": {},
   "outputs": [
    {
     "name": "stdout",
     "output_type": "stream",
     "text": [
      "1 (2, 3, 4, 5, 6)\n",
      "<class 'tuple'>\n",
      "1 2\n",
      "<class 'tuple'>\n"
     ]
    }
   ],
   "source": [
    "def asterisk_test(a, *args):\n",
    "    print(a, args)\n",
    "    print(type(args))\n",
    "asterisk_test(1,2,3,4,5,6)\n",
    "\n",
    "def asterisk_test(a, *args):\n",
    "    print(a, args[0])\n",
    "    print(type(args))\n",
    "asterisk_test(1,2,3,4,5,6)\n",
    "\n",
    "# args = (2,3,4,5,6) 하나의 리스트로 묶여져 있음"
   ]
  },
  {
   "cell_type": "code",
   "execution_count": 36,
   "metadata": {},
   "outputs": [
    {
     "name": "stdout",
     "output_type": "stream",
     "text": [
      "1 2 3 4 5 6\n",
      "<class 'tuple'>\n"
     ]
    }
   ],
   "source": [
    "def asterisk_test(a, args): # * 모두가 아닌 각각을 가져와라\n",
    "    print(a, *args)\n",
    "    print(type(args))\n",
    "asterisk_test(1,(2,3,4,5,6))\n",
    "# * 열어서 개별로 출력됨"
   ]
  },
  {
   "cell_type": "code",
   "execution_count": 37,
   "metadata": {},
   "outputs": [
    {
     "name": "stdout",
     "output_type": "stream",
     "text": [
      "1 (2, 3, 4, 5, 6)\n",
      "<class 'tuple'>\n",
      "1 2 3 4 5 6\n",
      "<class 'tuple'>\n"
     ]
    }
   ],
   "source": [
    "def asterisk_test(a, *args):\n",
    "    print(a, args[0])\n",
    "    print(type(args))\n",
    "\n",
    "asterisk_test(1, (2, 3, 4, 5, 6))\n",
    "\n",
    "def asterisk_test(a, args):\n",
    "    print(a, *args)\n",
    "    print(type(args))\n",
    "\n",
    "asterisk_test(1, (2,3,4,5,6))"
   ]
  },
  {
   "cell_type": "code",
   "execution_count": 38,
   "metadata": {},
   "outputs": [
    {
     "name": "stdout",
     "output_type": "stream",
     "text": [
      "[1, 2] [3, 4] [5, 6]\n"
     ]
    }
   ],
   "source": [
    "data = ([1,2],[3,4],[5,6])\n",
    "print(*data)\n",
    "# 개별적으로 출력이 될 것이다"
   ]
  },
  {
   "cell_type": "code",
   "execution_count": 39,
   "metadata": {},
   "outputs": [
    {
     "name": "stdout",
     "output_type": "stream",
     "text": [
      "9\n",
      "12\n"
     ]
    }
   ],
   "source": [
    "for data in zip(*([1,2],[3,4],[5,6])):\n",
    "    print(sum(data))"
   ]
  },
  {
   "cell_type": "code",
   "execution_count": 40,
   "metadata": {},
   "outputs": [
    {
     "name": "stdout",
     "output_type": "stream",
     "text": [
      "10 3 2 1 56\n"
     ]
    }
   ],
   "source": [
    "def asterisk_test(a, b, c, d, e=0):\n",
    "    print(a, b, c, d, e)\n",
    "data = {\"d\":1 , \"c\":2, \"b\":3, \"e\":56}\n",
    "# 인자를 알맞게 맞춰줘야함 ex. f를 사용 안함, e를 사용\n",
    "asterisk_test(10,**data)\n",
    "# 내 예상 : 10 3 2 1 56"
   ]
  },
  {
   "cell_type": "markdown",
   "metadata": {},
   "source": [
    "### 11. Collections : List, Tuple, Dict 에 대한 확장구조 모듈\n",
    "    1. from collections import deque\n",
    "    2. from collections import Counter\n",
    "    3. from collections import OrderedDict\n",
    "    4, from collections import defaultdict\n",
    "    5. from collections import namedtuple"
   ]
  },
  {
   "cell_type": "markdown",
   "metadata": {},
   "source": [
    "#### [1]. deque : from collections import deque\n",
    "    - stack과 Quene를 지원하는 모듈\n",
    "    - rotate, reverse 등 Linked List의 특성을 지원함\n",
    "    - 기존 list 형태의 함수를 모두 지원함"
   ]
  },
  {
   "cell_type": "code",
   "execution_count": 41,
   "metadata": {},
   "outputs": [
    {
     "data": {
      "text/plain": [
       "deque([])"
      ]
     },
     "execution_count": 41,
     "metadata": {},
     "output_type": "execute_result"
    }
   ],
   "source": [
    "from collections import deque\n",
    "deque_list = deque()\n",
    "deque_list"
   ]
  },
  {
   "cell_type": "code",
   "execution_count": 42,
   "metadata": {},
   "outputs": [
    {
     "name": "stdout",
     "output_type": "stream",
     "text": [
      "deque([0, 1, 2, 3, 4])\n"
     ]
    }
   ],
   "source": [
    "for i in range(5):\n",
    "    deque_list.append(i)\n",
    "print(deque_list)"
   ]
  },
  {
   "cell_type": "code",
   "execution_count": 43,
   "metadata": {},
   "outputs": [
    {
     "name": "stdout",
     "output_type": "stream",
     "text": [
      "deque([10, 0, 1, 2, 3, 4])\n"
     ]
    }
   ],
   "source": [
    "deque_list.appendleft(10)\n",
    "print(deque_list)\n",
    "# 왼쪽에 삽입하는 거니까 [ 10,0,1,2,3,4 ]\n",
    "# appendright(10) 은 없다"
   ]
  },
  {
   "cell_type": "code",
   "execution_count": 44,
   "metadata": {},
   "outputs": [
    {
     "name": "stdout",
     "output_type": "stream",
     "text": [
      "deque([3, 4, 10, 0, 1, 2])\n",
      "deque([1, 2, 3, 4, 10, 0])\n"
     ]
    }
   ],
   "source": [
    "deque_list.rotate(2)\n",
    "print(deque_list)\n",
    "# 왼쪽으로 2 칸씩 이동\n",
    "deque_list.rotate(2)\n",
    "print(deque_list)"
   ]
  },
  {
   "cell_type": "code",
   "execution_count": 45,
   "metadata": {},
   "outputs": [
    {
     "data": {
      "text/plain": [
       "deque([0, 10, 4, 3, 2, 1])"
      ]
     },
     "execution_count": 45,
     "metadata": {},
     "output_type": "execute_result"
    }
   ],
   "source": [
    "deque(reversed(deque_list))\n",
    "# 역으로 출력"
   ]
  },
  {
   "cell_type": "code",
   "execution_count": 46,
   "metadata": {},
   "outputs": [
    {
     "name": "stdout",
     "output_type": "stream",
     "text": [
      "deque([1, 2, 3, 4, 10, 0, 5, 6, 7])\n",
      "deque([10, 9, 8, 1, 2, 3, 4, 10, 0, 5, 6, 7])\n",
      "deque([])\n"
     ]
    }
   ],
   "source": [
    "deque_list.extend([5,6,7])\n",
    "print(deque_list)\n",
    "# 오른쪽으로 삽입\n",
    "deque_list.extendleft([8,9,10])\n",
    "print(deque_list)\n",
    "# 왼쪽으로 삽입 -> 삽입할때 역순으로 8 9 10 차례대로 left에 insert 하게 된다\n",
    "deque_list.clear()\n",
    "print(deque_list)"
   ]
  },
  {
   "cell_type": "code",
   "execution_count": 47,
   "metadata": {},
   "outputs": [
    {
     "name": "stderr",
     "output_type": "stream",
     "text": [
      "C:\\Users\\user\\anaconda3\\lib\\site-packages\\ipykernel_launcher.py:4: DeprecationWarning: time.clock has been deprecated in Python 3.3 and will be removed from Python 3.8: use time.perf_counter or time.process_time instead\n",
      "  after removing the cwd from sys.path.\n"
     ]
    },
    {
     "name": "stdout",
     "output_type": "stream",
     "text": [
      "11.1498927 seconds\n",
      "0\n"
     ]
    },
    {
     "name": "stderr",
     "output_type": "stream",
     "text": [
      "C:\\Users\\user\\anaconda3\\lib\\site-packages\\ipykernel_launcher.py:11: DeprecationWarning: time.clock has been deprecated in Python 3.3 and will be removed from Python 3.8: use time.perf_counter or time.process_time instead\n",
      "  # This is added back by InteractiveShellApp.init_path()\n"
     ]
    }
   ],
   "source": [
    "from collections import deque\n",
    "import time\n",
    "\n",
    "start_time = time.clock()\n",
    "# time.clock() : cpu 시간의 부동 소수점의 연산을 반환한 것 -> 프로세스 수행 시간을 계산할때 사용\n",
    "deque_list = deque()\n",
    "for i in range(10000):\n",
    "    for i in range(10000):\n",
    "        deque_list.append(i) # 100000000개\n",
    "        deque_list.pop() # 하나를 꺼냄\n",
    "print(time.clock()-start_time, \"seconds\")\n",
    "print(len(deque_list))"
   ]
  },
  {
   "cell_type": "code",
   "execution_count": 48,
   "metadata": {},
   "outputs": [
    {
     "name": "stderr",
     "output_type": "stream",
     "text": [
      "C:\\Users\\user\\anaconda3\\lib\\site-packages\\ipykernel_launcher.py:3: DeprecationWarning: time.clock has been deprecated in Python 3.3 and will be removed from Python 3.8: use time.perf_counter or time.process_time instead\n",
      "  This is separate from the ipykernel package so we can avoid doing imports until\n"
     ]
    },
    {
     "name": "stdout",
     "output_type": "stream",
     "text": [
      "35.2192431 seconds\n"
     ]
    },
    {
     "name": "stderr",
     "output_type": "stream",
     "text": [
      "C:\\Users\\user\\anaconda3\\lib\\site-packages\\ipykernel_launcher.py:9: DeprecationWarning: time.clock has been deprecated in Python 3.3 and will be removed from Python 3.8: use time.perf_counter or time.process_time instead\n",
      "  if __name__ == '__main__':\n"
     ]
    }
   ],
   "source": [
    "import time\n",
    "\n",
    "start_time = time.clock()\n",
    "just_list = []\n",
    "for i in range(10000):\n",
    "    for i in range(10000):\n",
    "        just_list.append(i)\n",
    "        just_list.pop() # 맨 뒤에 있는 것이 pop() 됨\n",
    "print(time.clock()-start_time, \"seconds\")    \n",
    "# 훨씬 오래걸린다\n",
    "\n",
    "# pop() : 지우고자 하는 리스트의 인덱스를 받아서 지우는 방식, 지워진 인덱스의 값을 반환\n",
    "# del() : 지우고자 하는 리스트의 인덱스를 받아서 지우는 방식, 지워진 인덱스의 값을 반환하지 않음\n",
    "# remove() : 지우고자 하는 리스트의 값을 받아서 지우는 방식, 지운 후 리스트를 재조정함"
   ]
  },
  {
   "cell_type": "code",
   "execution_count": 49,
   "metadata": {},
   "outputs": [
    {
     "name": "stdout",
     "output_type": "stream",
     "text": [
      "[1, 2, 3, 4, 5, 7]\n"
     ]
    },
    {
     "data": {
      "text/plain": [
       "[1, 2, 3, 4, 6, 5, 7]"
      ]
     },
     "execution_count": 49,
     "metadata": {},
     "output_type": "execute_result"
    }
   ],
   "source": [
    "a = [1,2,3,4,5,6,7]\n",
    "a.pop(5)\n",
    "print(a)\n",
    "a = [1,2,3,4,5,6,5,7]\n",
    "# 앞에 있는 5가 지워짐\n",
    "a.remove(5)\n",
    "a"
   ]
  },
  {
   "cell_type": "markdown",
   "metadata": {},
   "source": [
    "#### [3]. OrderedDict : from collections import OrderedDict\n",
    "    - Dict와 달리, (( 데이터를 입력한 순서대로 )) dict를 반환함\n",
    "    - 이 OrderedDict은 Dict type의 값을 value 또는 key 값으로 정렬할때 사용"
   ]
  },
  {
   "cell_type": "code",
   "execution_count": 50,
   "metadata": {},
   "outputs": [
    {
     "name": "stdout",
     "output_type": "stream",
     "text": [
      "dict_values([100, 200, 300, 500])\n",
      "x 100\n",
      "y 200\n",
      "z 300\n",
      "l 500\n"
     ]
    }
   ],
   "source": [
    "d={'x':100,'y':200,'z':300,'l':500}\n",
    "print(d.values())\n",
    "for k,v in d.items():\n",
    "    print(k,v)"
   ]
  },
  {
   "cell_type": "code",
   "execution_count": 51,
   "metadata": {},
   "outputs": [
    {
     "name": "stdout",
     "output_type": "stream",
     "text": [
      "d 4\n",
      "c 3\n",
      "b 2\n",
      "a 1\n"
     ]
    }
   ],
   "source": [
    "from collections import OrderedDict\n",
    "d = OrderedDict()\n",
    "d['d'] = 4\n",
    "d['c'] = 3\n",
    "d['b'] = 2\n",
    "d['a'] = 1\n",
    "for k,v in d.items():\n",
    "    print(k,v)"
   ]
  },
  {
   "cell_type": "code",
   "execution_count": 52,
   "metadata": {},
   "outputs": [
    {
     "name": "stdout",
     "output_type": "stream",
     "text": [
      "OrderedDict([('d', 4), ('c', 3), ('b', 2), ('a', 1)])\n",
      "odict_items([('a', 1), ('b', 2), ('c', 3), ('d', 4)])\n",
      "odict_items([('a', 1), ('b', 2), ('c', 3), ('d', 4)])\n"
     ]
    }
   ],
   "source": [
    "# key 값으로 정렬하기\n",
    "print(d)\n",
    "print(OrderedDict(sorted(d.items(), key = lambda t:t[0])).items())\n",
    "print(OrderedDict(sorted(d.items(), key = lambda t:t[1])).items())"
   ]
  },
  {
   "cell_type": "markdown",
   "metadata": {},
   "source": [
    "#### [4]. DefaultDict : from collections import defaultdict\n",
    "    - Dict type의 값에 기본 값을 지정, 신규값 생성시 사용하는 방법"
   ]
  },
  {
   "cell_type": "code",
   "execution_count": 53,
   "metadata": {},
   "outputs": [
    {
     "data": {
      "text/plain": [
       "5"
      ]
     },
     "execution_count": 53,
     "metadata": {},
     "output_type": "execute_result"
    }
   ],
   "source": [
    "from collections import defaultdict\n",
    "d = defaultdict(object) # Default dictionary를 생성\n",
    "d = defaultdict(lambda : 5) # Default 값은 0으로 채움\n",
    "d['first']"
   ]
  },
  {
   "cell_type": "code",
   "execution_count": 54,
   "metadata": {},
   "outputs": [],
   "source": [
    "text = \"\"\"A press release is the quickest and easiest way to get free publicity. If well written, a press release can result in multiple published articles about your firm and its products. And that can mean new prospects contacting you asking you to sell to them. Talk about low-hanging fruit!\n",
    "What's more, press releases are cost effective. If the release results in an article that (for instance) appears to recommend your firm or your product, that article is more likely to drive prospects to contact you than a comparable paid advertisement.\n",
    "However, most press releases never accomplish that. Most press releases are just spray and pray. Nobody reads them, least of all the reporters and editors for whom they're intended. Worst case, a badly-written press release simply makes your firm look clueless and stupid.\n",
    "For example, a while back I received a press release containing the following sentence: \"Release 6.0 doubles the level of functionality available, providing organizations of all sizes with a fast-to-deploy, highly robust, and easy-to-use solution to better acquire, retain, and serve customers.\"\n",
    "Translation: \"The new release does more stuff.\" Why the extra verbiage? As I explained in the post \"Why Marketers Speak Biz Blab\", the BS words are simply a way to try to make something unimportant seem important. And, let's face it, a 6.0 release of a product probably isn't all that important.\n",
    "As a reporter, my immediate response to that press release was that it's not important because it expended an entire sentence saying absolutely nothing. And I assumed (probably rightly) that the company's marketing team was a bunch of idiots.\"\"\""
   ]
  },
  {
   "cell_type": "code",
   "execution_count": 55,
   "metadata": {},
   "outputs": [
    {
     "name": "stdout",
     "output_type": "stream",
     "text": [
      "odict_items([('a', 12), ('to', 10), ('the', 9), ('and', 9), ('press', 8), ('release', 8), ('that', 7), ('of', 5), ('your', 4), ('in', 3), ('firm', 3), ('you', 3), ('releases', 3), ('are', 3), ('all', 3), ('i', 3), ('is', 2), ('way', 2), ('if', 2), ('can', 2), ('about', 2), ('new', 2), ('prospects', 2), ('an', 2), ('article', 2), ('more', 2), ('most', 2), ('simply', 2), ('6.0', 2), ('was', 2), ('quickest', 1), ('easiest', 1), ('get', 1), ('free', 1), ('publicity.', 1), ('well', 1), ('written,', 1), ('result', 1), ('multiple', 1), ('published', 1), ('articles', 1), ('its', 1), ('products.', 1), ('mean', 1), ('contacting', 1), ('asking', 1), ('sell', 1), ('them.', 1), ('talk', 1), ('low-hanging', 1), (\"fruit!\\nwhat's\", 1), ('more,', 1), ('cost', 1), ('effective.', 1), ('results', 1), ('(for', 1), ('instance)', 1), ('appears', 1), ('recommend', 1), ('or', 1), ('product,', 1), ('likely', 1), ('drive', 1), ('contact', 1), ('than', 1), ('comparable', 1), ('paid', 1), ('advertisement.\\nhowever,', 1), ('never', 1), ('accomplish', 1), ('that.', 1), ('just', 1), ('spray', 1), ('pray.', 1), ('nobody', 1), ('reads', 1), ('them,', 1), ('least', 1), ('reporters', 1), ('editors', 1), ('for', 1), ('whom', 1), (\"they're\", 1), ('intended.', 1), ('worst', 1), ('case,', 1), ('badly-written', 1), ('makes', 1), ('look', 1), ('clueless', 1), ('stupid.\\nfor', 1), ('example,', 1), ('while', 1), ('back', 1), ('received', 1), ('containing', 1), ('following', 1), ('sentence:', 1), ('\"release', 1), ('doubles', 1), ('level', 1), ('functionality', 1), ('available,', 1), ('providing', 1), ('organizations', 1), ('sizes', 1), ('with', 1), ('fast-to-deploy,', 1), ('highly', 1), ('robust,', 1), ('easy-to-use', 1), ('solution', 1), ('better', 1), ('acquire,', 1), ('retain,', 1), ('serve', 1), ('customers.\"\\ntranslation:', 1), ('\"the', 1), ('does', 1), ('stuff.\"', 1), ('why', 1), ('extra', 1), ('verbiage?', 1), ('as', 1), ('explained', 1), ('post', 1), ('\"why', 1), ('marketers', 1), ('speak', 1), ('biz', 1), ('blab\",', 1), ('bs', 1), ('words', 1), ('try', 1), ('make', 1), ('something', 1), ('unimportant', 1), ('seem', 1), ('important.', 1), ('and,', 1), (\"let's\", 1), ('face', 1), ('it,', 1), ('product', 1), ('probably', 1), (\"isn't\", 1), ('important.\\nas', 1), ('reporter,', 1), ('my', 1), ('immediate', 1), ('response', 1), (\"it's\", 1), ('not', 1), ('important', 1), ('because', 1), ('it', 1), ('expended', 1), ('entire', 1), ('sentence', 1), ('saying', 1), ('absolutely', 1), ('nothing.', 1), ('assumed', 1), ('(probably', 1), ('rightly)', 1), (\"company's\", 1), ('marketing', 1), ('team', 1), ('bunch', 1), ('idiots.', 1)])\n"
     ]
    }
   ],
   "source": [
    "# 각 단어가 얼마나 있는지 갯수 세기\n",
    "from collections import OrderedDict\n",
    "text_1 = text.lower().split(' ')\n",
    "count_1 = OrderedDict()\n",
    "for i in text_1:\n",
    "    if i in count_1.keys():\n",
    "        count_1[i]+=1\n",
    "    else:\n",
    "        count_1[i]=1\n",
    "print(OrderedDict(sorted(count_1.items(), key = lambda t:t[1],reverse=True)).items())"
   ]
  },
  {
   "cell_type": "code",
   "execution_count": 56,
   "metadata": {},
   "outputs": [
    {
     "name": "stdout",
     "output_type": "stream",
     "text": [
      "defaultdict(<function <lambda> at 0x0000027A841CC168>, {'a': 12, 'press': 8, 'release': 8, 'is': 2, 'the': 9, 'quickest': 1, 'and': 9, 'easiest': 1, 'way': 2, 'to': 10, 'get': 1, 'free': 1, 'publicity.': 1, 'if': 2, 'well': 1, 'written,': 1, 'can': 2, 'result': 1, 'in': 3, 'multiple': 1, 'published': 1, 'articles': 1, 'about': 2, 'your': 4, 'firm': 3, 'its': 1, 'products.': 1, 'that': 7, 'mean': 1, 'new': 2, 'prospects': 2, 'contacting': 1, 'you': 3, 'asking': 1, 'sell': 1, 'them.': 1, 'talk': 1, 'low-hanging': 1, \"fruit!\\nwhat's\": 1, 'more,': 1, 'releases': 3, 'are': 3, 'cost': 1, 'effective.': 1, 'results': 1, 'an': 2, 'article': 2, '(for': 1, 'instance)': 1, 'appears': 1, 'recommend': 1, 'or': 1, 'product,': 1, 'more': 2, 'likely': 1, 'drive': 1, 'contact': 1, 'than': 1, 'comparable': 1, 'paid': 1, 'advertisement.\\nhowever,': 1, 'most': 2, 'never': 1, 'accomplish': 1, 'that.': 1, 'just': 1, 'spray': 1, 'pray.': 1, 'nobody': 1, 'reads': 1, 'them,': 1, 'least': 1, 'of': 5, 'all': 3, 'reporters': 1, 'editors': 1, 'for': 1, 'whom': 1, \"they're\": 1, 'intended.': 1, 'worst': 1, 'case,': 1, 'badly-written': 1, 'simply': 2, 'makes': 1, 'look': 1, 'clueless': 1, 'stupid.\\nfor': 1, 'example,': 1, 'while': 1, 'back': 1, 'i': 3, 'received': 1, 'containing': 1, 'following': 1, 'sentence:': 1, '\"release': 1, '6.0': 2, 'doubles': 1, 'level': 1, 'functionality': 1, 'available,': 1, 'providing': 1, 'organizations': 1, 'sizes': 1, 'with': 1, 'fast-to-deploy,': 1, 'highly': 1, 'robust,': 1, 'easy-to-use': 1, 'solution': 1, 'better': 1, 'acquire,': 1, 'retain,': 1, 'serve': 1, 'customers.\"\\ntranslation:': 1, '\"the': 1, 'does': 1, 'stuff.\"': 1, 'why': 1, 'extra': 1, 'verbiage?': 1, 'as': 1, 'explained': 1, 'post': 1, '\"why': 1, 'marketers': 1, 'speak': 1, 'biz': 1, 'blab\",': 1, 'bs': 1, 'words': 1, 'try': 1, 'make': 1, 'something': 1, 'unimportant': 1, 'seem': 1, 'important.': 1, 'and,': 1, \"let's\": 1, 'face': 1, 'it,': 1, 'product': 1, 'probably': 1, \"isn't\": 1, 'important.\\nas': 1, 'reporter,': 1, 'my': 1, 'immediate': 1, 'response': 1, 'was': 2, \"it's\": 1, 'not': 1, 'important': 1, 'because': 1, 'it': 1, 'expended': 1, 'entire': 1, 'sentence': 1, 'saying': 1, 'absolutely': 1, 'nothing.': 1, 'assumed': 1, '(probably': 1, 'rightly)': 1, \"company's\": 1, 'marketing': 1, 'team': 1, 'bunch': 1, 'idiots.': 1})\n",
      "OrderedDict([('a', 12), ('to', 10), ('the', 9), ('and', 9), ('press', 8), ('release', 8), ('that', 7), ('of', 5), ('your', 4), ('in', 3), ('firm', 3), ('you', 3), ('releases', 3), ('are', 3), ('all', 3), ('i', 3), ('is', 2), ('way', 2), ('if', 2), ('can', 2), ('about', 2), ('new', 2), ('prospects', 2), ('an', 2), ('article', 2), ('more', 2), ('most', 2), ('simply', 2), ('6.0', 2), ('was', 2), ('quickest', 1), ('easiest', 1), ('get', 1), ('free', 1), ('publicity.', 1), ('well', 1), ('written,', 1), ('result', 1), ('multiple', 1), ('published', 1), ('articles', 1), ('its', 1), ('products.', 1), ('mean', 1), ('contacting', 1), ('asking', 1), ('sell', 1), ('them.', 1), ('talk', 1), ('low-hanging', 1), (\"fruit!\\nwhat's\", 1), ('more,', 1), ('cost', 1), ('effective.', 1), ('results', 1), ('(for', 1), ('instance)', 1), ('appears', 1), ('recommend', 1), ('or', 1), ('product,', 1), ('likely', 1), ('drive', 1), ('contact', 1), ('than', 1), ('comparable', 1), ('paid', 1), ('advertisement.\\nhowever,', 1), ('never', 1), ('accomplish', 1), ('that.', 1), ('just', 1), ('spray', 1), ('pray.', 1), ('nobody', 1), ('reads', 1), ('them,', 1), ('least', 1), ('reporters', 1), ('editors', 1), ('for', 1), ('whom', 1), (\"they're\", 1), ('intended.', 1), ('worst', 1), ('case,', 1), ('badly-written', 1), ('makes', 1), ('look', 1), ('clueless', 1), ('stupid.\\nfor', 1), ('example,', 1), ('while', 1), ('back', 1), ('received', 1), ('containing', 1), ('following', 1), ('sentence:', 1), ('\"release', 1), ('doubles', 1), ('level', 1), ('functionality', 1), ('available,', 1), ('providing', 1), ('organizations', 1), ('sizes', 1), ('with', 1), ('fast-to-deploy,', 1), ('highly', 1), ('robust,', 1), ('easy-to-use', 1), ('solution', 1), ('better', 1), ('acquire,', 1), ('retain,', 1), ('serve', 1), ('customers.\"\\ntranslation:', 1), ('\"the', 1), ('does', 1), ('stuff.\"', 1), ('why', 1), ('extra', 1), ('verbiage?', 1), ('as', 1), ('explained', 1), ('post', 1), ('\"why', 1), ('marketers', 1), ('speak', 1), ('biz', 1), ('blab\",', 1), ('bs', 1), ('words', 1), ('try', 1), ('make', 1), ('something', 1), ('unimportant', 1), ('seem', 1), ('important.', 1), ('and,', 1), (\"let's\", 1), ('face', 1), ('it,', 1), ('product', 1), ('probably', 1), (\"isn't\", 1), ('important.\\nas', 1), ('reporter,', 1), ('my', 1), ('immediate', 1), ('response', 1), (\"it's\", 1), ('not', 1), ('important', 1), ('because', 1), ('it', 1), ('expended', 1), ('entire', 1), ('sentence', 1), ('saying', 1), ('absolutely', 1), ('nothing.', 1), ('assumed', 1), ('(probably', 1), ('rightly)', 1), (\"company's\", 1), ('marketing', 1), ('team', 1), ('bunch', 1), ('idiots.', 1)])\n"
     ]
    }
   ],
   "source": [
    "from collections import defaultdict\n",
    "text_2 = text.lower().split(' ')\n",
    "count_2 = defaultdict(object)\n",
    "count_2 = defaultdict(lambda : 0)\n",
    "for i in text_2:\n",
    "    count_2[i]+=1\n",
    "print(count_2)\n",
    "print(OrderedDict(sorted(count_2.items(), key = lambda t : t[1], reverse=True)))"
   ]
  },
  {
   "cell_type": "markdown",
   "metadata": {},
   "source": [
    "#### [2]. Counter : from collections import Counter\n",
    "    - Sequence type 의 data element 들의 갯수를 dict형태로 반환"
   ]
  },
  {
   "cell_type": "code",
   "execution_count": 57,
   "metadata": {},
   "outputs": [
    {
     "name": "stdout",
     "output_type": "stream",
     "text": [
      "Counter({'a': 3, 'l': 2, 'g': 1, 'h': 1, 'd': 1})\n"
     ]
    }
   ],
   "source": [
    "from collections import Counter\n",
    "c = Counter()\n",
    "c = Counter('gallahad')\n",
    "print(c)\n",
    "# 알파벳을 딕셔너리로 반환 단어를 반환하는 것이 아님"
   ]
  },
  {
   "cell_type": "code",
   "execution_count": 58,
   "metadata": {},
   "outputs": [
    {
     "name": "stdout",
     "output_type": "stream",
     "text": [
      "Counter({' ': 5, 'i': 3, 'n': 3, 'H': 2, 'y': 2, 'e': 2, 'M': 1, 'a': 1, 'm': 1, 's': 1, 'S': 1, 'h': 1, 'o': 1, 'g': 1})\n"
     ]
    }
   ],
   "source": [
    "c = Counter(\"Hi My name is Shin Hyeong\")\n",
    "print(c)"
   ]
  },
  {
   "cell_type": "markdown",
   "metadata": {},
   "source": [
    "#### [5]. namedtuple : from collections import namedtuple\n",
    "    - Tuple 형태로 Data 구조체를 저장하는 방법\n",
    "    - 저장되는 data의 variable을 사전에 지정해서 저장함"
   ]
  },
  {
   "cell_type": "code",
   "execution_count": 59,
   "metadata": {},
   "outputs": [
    {
     "name": "stdout",
     "output_type": "stream",
     "text": [
      "Point(x=11, y=22)\n"
     ]
    }
   ],
   "source": [
    "from collections import namedtuple\n",
    "Point = namedtuple('Point',['x','y'])\n",
    "# 이처럼 사전에 data의 variable을 지정함\n",
    "p = Point(11,y=22)\n",
    "print(p)"
   ]
  },
  {
   "cell_type": "code",
   "execution_count": 60,
   "metadata": {},
   "outputs": [
    {
     "name": "stdout",
     "output_type": "stream",
     "text": [
      "11 22\n"
     ]
    }
   ],
   "source": [
    "x, y = p\n",
    "print(x,y)"
   ]
  },
  {
   "cell_type": "code",
   "execution_count": 61,
   "metadata": {},
   "outputs": [
    {
     "name": "stdout",
     "output_type": "stream",
     "text": [
      "33\n",
      "Point(x=11, y=22)\n"
     ]
    }
   ],
   "source": [
    "print(p.x + p.y)\n",
    "print(Point(x=11, y=22))"
   ]
  },
  {
   "cell_type": "markdown",
   "metadata": {},
   "source": [
    "## 1 ). - 1 Linear algebra codes : 선형대수학 코드"
   ]
  },
  {
   "cell_type": "markdown",
   "metadata": {},
   "source": [
    "#### 1. Vector representation of python\n",
    "    - Vector를 파이썬으로 표시하는 다양한 방법 존재\n",
    "    - 기본적으로 list로 vector 연산 실시"
   ]
  },
  {
   "cell_type": "code",
   "execution_count": 62,
   "metadata": {},
   "outputs": [
    {
     "name": "stdout",
     "output_type": "stream",
     "text": [
      "[1, 2, 10] (1, 2, 10) {'x': 1, 'y': 1, 'z': 10}\n"
     ]
    }
   ],
   "source": [
    "vector_a = [1,2,10] # List로 표현했을 경우\n",
    "vector_b = (1,2,10) # Tuple로 표현했을 경우\n",
    "vector_c = { 'x':1, 'y':1,'z':10} # dict로 표현했을 경우\n",
    "\n",
    "print(vector_a, vector_b, vector_c)"
   ]
  },
  {
   "cell_type": "code",
   "execution_count": 63,
   "metadata": {},
   "outputs": [
    {
     "name": "stdout",
     "output_type": "stream",
     "text": [
      "* u+v+z 를 했을 경우 : [2, 2, 2, 3, 3, 5]\n",
      "* 하지만 [2,2] + [2,3] + [3,5] 의 결괏값은 :  [7, 10]\n"
     ]
    }
   ],
   "source": [
    "# ex) Vector : [2,2] + [2,3] + [3,5] = [7,10]\n",
    "u = [2,2]\n",
    "v = [2,3]\n",
    "z = [3,5]\n",
    "result = []\n",
    "print(\"* u+v+z 를 했을 경우 :\", u+v+z)\n",
    "for i in range(len(u)):\n",
    "    result.append(u[i]+v[i]+z[i])\n",
    "print(\"* 하지만 [2,2] + [2,3] + [3,5] 의 결괏값은 : \",result)"
   ]
  },
  {
   "cell_type": "code",
   "execution_count": 64,
   "metadata": {},
   "outputs": [
    {
     "name": "stdout",
     "output_type": "stream",
     "text": [
      "[7, 10]\n"
     ]
    }
   ],
   "source": [
    "result = [sum(t) for t in list(zip(u,v,z))]\n",
    "print(result)"
   ]
  },
  {
   "cell_type": "markdown",
   "metadata": {},
   "source": [
    "#### 2. Scalar - Vector product : 백터와 스칼라의 곱셈"
   ]
  },
  {
   "cell_type": "code",
   "execution_count": 65,
   "metadata": {},
   "outputs": [
    {
     "name": "stdout",
     "output_type": "stream",
     "text": [
      "[10, 12, 14]\n"
     ]
    }
   ],
   "source": [
    "# ex) 2 ([1,2,3] + [4,4,4]) = 2 ([5,6,7]) = [10,12,14]\n",
    "u = [1,2,3]\n",
    "v = [4,4,4]\n",
    "alpha = 2\n",
    "result = [alpha*sum(t) for t in list(zip(u,v))]\n",
    "print(result)"
   ]
  },
  {
   "cell_type": "markdown",
   "metadata": {},
   "source": [
    "#### 3. Matrix representation of python\n",
    "    - Matrix는 dict로 표현할때 무궁무진한 방법이 있음\n",
    "    - 기본적으로 2차원 리스트 형태로 표현함\n",
    "    - [[ 1번째 row ], [ 2번째 row ], [ 3번째 row ]]"
   ]
  },
  {
   "cell_type": "code",
   "execution_count": 66,
   "metadata": {},
   "outputs": [],
   "source": [
    "matrix_a = [[3,6],[4,5]] # List로 표현했을때\n",
    "matrix_b = [(3,6),(4,5)] # Tuple로 표현했을때\n",
    "matrix_c = {(0,0) : 3, (0,1) : 6, (1,0) : 4, (1,1) : 5} # 딕셔너리로 표현하는 방법"
   ]
  },
  {
   "cell_type": "code",
   "execution_count": 67,
   "metadata": {},
   "outputs": [],
   "source": [
    "# ex) C = A + B \n",
    "# [ 3, 6 ]    +   [ 5, 8 ]   =    [ 8 , 14 ]\n",
    "# [ 4, 5 ]        [ 6, 7 ]        [ 10, 12 ]\n",
    "\n",
    "\n",
    "# ex) C = A * B \n",
    "# [ 3, 6 ]    *   [ 5, 8 ]   =    [ 15 + 36 , 24 + 42 ]  =  [ 51, 66 ]\n",
    "# [ 4, 5 ]        [ 6, 7 ]        [ 20 + 30, 32 + 35 ]      [ 50, 67 ]"
   ]
  },
  {
   "cell_type": "code",
   "execution_count": 69,
   "metadata": {},
   "outputs": [
    {
     "data": {
      "text/plain": [
       "[([3, 6], [5, 8]), ([4, 5], [6, 7])]"
      ]
     },
     "execution_count": 69,
     "metadata": {},
     "output_type": "execute_result"
    }
   ],
   "source": [
    "matrix_a = [[3,6],[4,5]]\n",
    "matrix_b = [[5,8],[6,7]]\n",
    "list(zip(matrix_a, matrix_b))"
   ]
  },
  {
   "cell_type": "code",
   "execution_count": 81,
   "metadata": {},
   "outputs": [
    {
     "name": "stdout",
     "output_type": "stream",
     "text": [
      "([3, 6], [5, 8])\n",
      "([4, 5], [6, 7])\n",
      "--------------------------\n",
      "[(3, 5), (6, 8)]\n",
      "[(4, 6), (5, 7)]\n"
     ]
    }
   ],
   "source": [
    "for i in list(zip(matrix_a, matrix_b)):\n",
    "    print(i)\n",
    "    \n",
    "print('--------------------------')\n",
    "\n",
    "for i in list(zip(matrix_a, matrix_b)):\n",
    "    print(list(zip(*i)))"
   ]
  },
  {
   "cell_type": "code",
   "execution_count": 82,
   "metadata": {},
   "outputs": [
    {
     "name": "stdout",
     "output_type": "stream",
     "text": [
      "(3, 5)\n",
      "(6, 8)\n",
      "(4, 6)\n",
      "(5, 7)\n"
     ]
    }
   ],
   "source": [
    "for i in list(zip(matrix_a, matrix_b)):\n",
    "    for row in zip(*i):\n",
    "        print(row)"
   ]
  },
  {
   "cell_type": "code",
   "execution_count": 83,
   "metadata": {},
   "outputs": [
    {
     "data": {
      "text/plain": [
       "[[8, 14], [10, 12]]"
      ]
     },
     "execution_count": 83,
     "metadata": {},
     "output_type": "execute_result"
    }
   ],
   "source": [
    "# 행렬의 합 :\n",
    "result = [ [sum(row) for row in list(zip(*i))] for i in list(zip(matrix_a, matrix_b)) ]\n",
    "result"
   ]
  },
  {
   "cell_type": "code",
   "execution_count": 91,
   "metadata": {},
   "outputs": [
    {
     "data": {
      "text/plain": [
       "[[1, 4], [2, 5], [3, 6]]"
      ]
     },
     "execution_count": 91,
     "metadata": {},
     "output_type": "execute_result"
    }
   ],
   "source": [
    "# 행렬의 역( Transpose )\n",
    "matrix_a=[[1,2,3],[4,5,6]]\n",
    "result = [[e for e in i ]for i in (zip(*matrix_a))]\n",
    "result"
   ]
  },
  {
   "cell_type": "code",
   "execution_count": 105,
   "metadata": {},
   "outputs": [
    {
     "data": {
      "text/plain": [
       "[[5, 8], [5, 6]]"
      ]
     },
     "execution_count": 105,
     "metadata": {},
     "output_type": "execute_result"
    }
   ],
   "source": [
    "# 행렬의 곱\n",
    "matrix_a = [[1,1,2],[2,1,1]]\n",
    "matrix_b = [[1,1],[2,1],[1,3]]\n",
    "result = [  [ sum(a*b for a,b in zip(A,B)) for B in zip(*matrix_b) ]for A in matrix_a ]\n",
    "result"
   ]
  },
  {
   "cell_type": "code",
   "execution_count": 103,
   "metadata": {},
   "outputs": [
    {
     "data": {
      "text/plain": [
       "[(1, 2, 1), (1, 1, 3)]"
      ]
     },
     "execution_count": 103,
     "metadata": {},
     "output_type": "execute_result"
    }
   ],
   "source": [
    "list(zip(*matrix_b))"
   ]
  },
  {
   "cell_type": "code",
   "execution_count": 101,
   "metadata": {},
   "outputs": [
    {
     "name": "stdout",
     "output_type": "stream",
     "text": [
      "5\n",
      "8\n",
      "5\n",
      "6\n"
     ]
    }
   ],
   "source": [
    "for a in matrix_a:\n",
    "    for b in zip(*matrix_b):\n",
    "        print(sum(a*b for a,b in zip(a,b)))"
   ]
  },
  {
   "cell_type": "markdown",
   "metadata": {},
   "source": [
    "## 1 ). - 2 News Categorization - (1)"
   ]
  },
  {
   "attachments": {
    "image-2.png": {
     "image/png": "[encoded data removed]"
    },
    "image-3.png": {
     "image/png": "[encoded data removed]"
    },
    "image.png": {
     "image/png": "[encoded data removed]"
    }
   },
   "cell_type": "markdown",
   "metadata": {},
   "source": [
    "#### 1. 한 뉴스에 대해 비슷한 뉴스를 찾아내도록 작성된 코드를 실행시키는 실습\n",
    "    - 문자를 숫자로 표현해야한다 : One - hot Encoding\n",
    "        : 문자를 Vector로 표현하는 것\n",
    "![image.png](attachment:image.png)\n",
    "\n",
    "    - 단어별로 인덱스를 부여해서, 한 문장의 단어의 갯수를 Vector로 표현 : Bag of words\n",
    "![image-2.png](attachment:image-2.png)\n",
    "\n",
    "    - 숫자로 유사도를 어떻게 표현해야 할까? : Cosine distance\n",
    "        : 보통은 Euclidean distance 보다 Cosine distance 즉 [ Count < Direction ]을 유사도로 많이 둔다\n",
    "![image-3.png](attachment:image-3.png)"
   ]
  },
  {
   "cell_type": "markdown",
   "metadata": {},
   "source": [
    "### [1]. 파일을 불러오기"
   ]
  },
  {
   "cell_type": "code",
   "execution_count": 135,
   "metadata": {},
   "outputs": [
    {
     "name": "stdout",
     "output_type": "stream",
     "text": [
      "OrderedDict([('26', 0), ('', 1), ('virtually', 2), ('tries', 3), ('release', 4), ('wrong', 5), ('factoring', 6), ('defensive', 7), ('23yearold', 8), ('troubles', 9), ('were', 10), ('cameo', 11), ('cheering', 12), ('quickly', 13), ('position', 14), ('given', 15), ('shamsin', 16), ('officially', 17), ('warmed', 18), ('fourseam', 19), ('qualifier', 20), ('294', 21), ('straight', 22), ('fair', 23), ('jooho', 24), ('ali', 25), ('dribble', 26), ('expressing', 27), ('68th', 28), ('homestand', 29), ('obtaining', 30), ('office', 31), ('antics', 32), ('erik', 33), ('see', 34), ('servais', 35), ('forecast', 36), ('alleviating', 37), ('cal', 38), ('minnesota', 39), ('pt', 40), ('bst', 41), ('criteria', 42), ('kanes', 43), ('maybe', 44), ('korea', 45), ('against', 46), ('bronze', 47), ('series', 48), ('months', 49), ('slash', 50), ('ahseop', 51), ('gel', 52), ('japan', 53), ('foul', 54), ('perform', 55), ('forward', 56), ('youre', 57), ('sprawled', 58), ('thing', 59), ('cishek', 60), ('energy', 61), ('sonaldo', 62), ('two', 63), ('top', 64), ('francona', 65), ('taijuan', 66), ('charges', 67), ('directed', 68), ('cardiff', 69), ('clinton', 70), ('mauricio', 71), ('dragon', 72), ('through', 73), ('kurt', 74), ('paper', 75), ('34th', 76), ('aid', 77), ('sixgame', 78), ('battle', 79), ('progressed', 80), ('decide', 81), ('unlike', 82), ('allowed', 83), ('alongside', 84), ('bromwich', 85), ('predictably', 86), ('houston', 87), ('approaches', 88), ('choice', 89), ('been', 90), ('170', 91), ('suggests', 92), ('1977', 93), ('deserves', 94), ('oldest', 95), ('away', 96), ('365', 97), ('packed', 98), ('djeparov', 99), ('jacheol', 100), ('province', 101), ('defoe', 102), ('joined', 103), ('highly', 104), ('nearpost', 105), ('whichlike', 106), ('focussing', 107), ('wengers', 108), ('festive', 109), ('injuries', 110), ('lie', 111), ('moments', 112), ('philadelphia', 113), ('bate', 114), ('33', 115), ('per', 116), ('prime', 117), ('mini', 118), ('phillipines', 119), ('snapped', 120), ('lock', 121), ('munich', 122), ('rooted', 123), ('closer', 124), ('cities', 125), ('kicker', 126), ('toby', 127), ('midfielder', 128), ('improvement', 129), ('undoubted', 130), ('fielder', 131), ('comparison', 132), ('tough', 133), ('opening', 134), ('alan', 135), ('451', 136), ('various', 137), ('interpreter', 138), ('lastminute', 139), ('bachelor', 140), ('griffin', 141), ('iron', 142), ('399', 143), ('diminish', 144), ('slashing', 145), ('gang', 146), ('and', 147), ('50', 148), ('regarded', 149), ('surgery', 150), ('qatar', 151), ('ambitions', 152), ('undone', 153), ('fans', 154), ('leaving', 155), ('breakthrough', 156), ('hassan', 157), ('advanced', 158), ('watford', 159), ('2012', 160), ('general', 161), ('efforts', 162), ('plan', 163), ('theyll', 164), ('kbs', 165), ('bounceback', 166), ('saudi', 167), ('ahn', 168), ('searing', 169), ('multiple', 170), ('follows', 171), ('him', 172), ('357', 173), ('involvement', 174), ('brazil', 175), ('headed', 176), ('offensive', 177), ('launched', 178), ('2for3', 179), ('grooves', 180), ('runnerup', 181), ('rosy', 182), ('bet', 183), ('adnan', 184), ('2002', 185), ('upgrade', 186), ('degree', 187), ('problems', 188), ('signings', 189), ('challenges', 190), ('201112', 191), ('injury', 192), ('7', 193), ('twice', 194), ('16th', 195), ('defenders', 196), ('whipped', 197), ('played', 198), ('translation', 199), ('resurgent', 200), ('surrendering', 201), ('army', 202), ('who', 203), ('running', 204), ('adhere', 205), ('head', 206), ('lacking', 207), ('consistency', 208), ('begin', 209), ('speed', 210), ('lamela', 211), ('far', 212), ('knockout', 213), ('whom', 214), ('laurent', 215), ('tidy', 216), ('fastball', 217), ('e', 218), ('call', 219), ('schedule', 220), ('laurels', 221), ('bp', 222), ('entertain', 223), ('defined', 224), ('national', 225), ('landore', 226), ('opinion', 227), ('janingwer', 228), ('compared', 229), ('286', 230), ('setup', 231), ('khazri', 232), ('yet', 233), ('board', 234), ('ipads', 235), ('instance', 236), ('suspicions', 237), ('peace', 238), ('96', 239), ('warmer', 240), ('ops', 241), ('attackminded', 242), ('firstyear', 243), ('305', 244), ('strings', 245), ('them', 246), ('equal', 247), ('hat', 248), ('milestones', 249), ('pirates', 250), ('05', 251), ('brewers', 252), ('preseason', 253), ('normalcy', 254), ('line', 255), ('bats', 256), ('curves', 257), ('icing', 258), ('decisive', 259), ('sensibly', 260), ('imagine', 261), ('minute', 262), ('observation', 263), ('secondfloor', 264), ('badass', 265), ('darmstadt', 266), ('grab', 267), ('yellow', 268), ('dortmunds', 269), ('chairman', 270), ('let', 271), ('whats', 272), ('learning', 273), ('belongs', 274), ('la', 275), ('aaa', 276), ('days', 277), ('k9', 278), ('pressure', 279), ('achieve', 280), ('listen', 281), ('began', 282), ('medical', 283), ('whilst', 284), ('progress', 285), ('reliable', 286), ('revenge', 287), ('pitchers', 288), ('augsburg', 289), ('feelings', 290), ('concerns', 291), ('lind', 292), ('threatens', 293), ('disappointment', 294), ('decade', 295), ('amat', 296), ('evening', 297), ('calibre', 298), ('impossible', 299), ('appearances', 300), ('playing', 301), ('striker', 302), ('potential', 303), ('arose', 304), ('leftback', 305), ('tonight', 306), ('an', 307), ('woes', 308), ('debut', 309), ('cancel', 310), ('bumkun', 311), ('worked', 312), ('cy', 313), ('website', 314), ('child', 315), ('half', 316), ('sunday', 317), ('fourgoal', 318), ('83rd', 319), ('coolest', 320), ('hotspurs', 321), ('strikeouts', 322), ('selhurst', 323), ('dodgers', 324), ('seen', 325), ('mastermind', 326), ('jungho', 327), ('including', 328), ('postponed', 329), ('forfeit', 330), ('rose', 331), ('place', 332), ('three', 333), ('austria', 334), ('eric', 335), ('hecking', 336), ('china', 337), ('mntwins', 338), ('coached', 339), ('minor', 340), ('koreas', 341), ('considered', 342), ('felt', 343), ('damaged', 344), ('renew', 345), ('heat', 346), ('should', 347), ('tehran', 348), ('paulinho', 349), ('25', 350), ('loss', 351), ('decrease', 352), ('swings', 353), ('sticks', 354), ('establishing', 355), ('auf', 356), ('twogoal', 357), ('beating', 358), ('adaptable', 359), ('longterm', 360), ('kevin', 361), ('stretchered', 362), ('called', 363), ('prepared', 364), ('earlier', 365), ('27yearold', 366), ('hanshin', 367), ('commanded', 368), ('rightside', 369), ('winger', 370), ('stand', 371), ('capoue', 372), ('company', 373), ('11', 374), ('42', 375), ('affected', 376), ('mlb', 377), ('started', 378), ('transferring', 379), ('discipline', 380), ('enter', 381), ('standout', 382), ('intentions', 383), ('reuter', 384), ('hunt', 385), ('catch', 386), ('body', 387), ('secure', 388), ('weeks', 389), ('clause', 390), ('milestone', 391), ('1st', 392), ('track', 393), ('changed', 394), ('74', 395), ('finalexpectations', 396), ('finale', 397), ('black', 398), ('roundof32', 399), ('093', 400), ('fullback', 401), ('olympics', 402), ('england', 403), ('setback', 404), ('admitted', 405), ('41', 406), ('negotiate', 407), ('enthused', 408), ('organization', 409), ('best', 410), ('rangers', 411), ('wished', 412), ('53', 413), ('timo', 414), ('friendly', 415), ('mercurial', 416), ('bruyne', 417), ('barrow', 418), ('cutter', 419), ('underway', 420), ('actually', 421), ('decision', 422), ('hoping', 423), ('589', 424), ('york', 425), ('later', 426), ('fizzed', 427), ('fully', 428), ('wes', 429), ('suspended', 430), ('seamless', 431), ('sign', 432), ('ball', 433), ('claims', 434), ('topflight', 435), ('26year', 436), ('land', 437), ('fight', 438), ('suffering', 439), ('city', 440), ('nothing', 441), ('bertrand', 442), ('foreigners', 443), ('pictures', 444), ('experiences', 445), ('rio', 446), ('watchers', 447), ('back', 448), ('better', 449), ('training', 450), ('championship', 451), ('complete', 452), ('hosting', 453), ('swimmingly', 454), ('certainly', 455), ('alex', 456), ('disingenuous', 457), ('worst', 458), ('four', 459), ('over', 460), ('bandaid', 461), ('twitter', 462), ('crucial', 463), ('rebound', 464), ('add', 465), ('kbo', 466), ('patrol', 467), ('kang', 468), ('326', 469), ('intrigue', 470), ('gonzalez', 471), ('undoubtedly', 472), ('escobar', 473), ('cincinnati', 474), ('gomis', 475), ('third', 476), ('permission', 477), ('truth', 478), ('leapfrogging', 479), ('lim', 480), ('nelson', 481), ('broxton', 482), ('lately', 483), ('429', 484), ('reaction', 485), ('minutesheavy', 486), ('dates', 487), ('expectations', 488), ('sooner', 489), ('thrown', 490), ('sons', 491), ('fired', 492), ('rightfully', 493), ('seventh', 494), ('concacaf', 495), ('everton', 496), ('heroes', 497), ('music', 498), ('ineligible', 499), ('tried', 500), ('weekends', 501), ('focusing', 502), ('news', 503), ('bushyhaired', 504), ('64', 505), ('alli', 506), ('surprisingly', 507), ('environment', 508), ('shoot', 509), ('form', 510), ('figures', 511), ('explosive', 512), ('everyone', 513), ('matchwinning', 514), ('trip', 515), ('simple', 516), ('6', 517), ('considering', 518), ('faced', 519), ('lars', 520), ('using', 521), ('journey', 522), ('8379', 523), ('100', 524), ('few', 525), ('superiority', 526), ('mike', 527), ('owner', 528), ('elite', 529), ('faceoff', 530), ('simulated', 531), ('16', 532), ('doziers', 533), ('stated', 534), ('reportedly', 535), ('28yearold', 536), ('percentage', 537), ('awards', 538), ('vip', 539), ('hang', 540), ('citys', 541), ('westfalenstadion', 542), ('way', 543), ('nickname', 544), ('15th', 545), ('besides', 546), ('gm', 547), ('aj', 548), ('group', 549), ('tear', 550), ('nodoubter', 551), ('cautiously', 552), ('announced', 553), ('washington', 554), ('londoners', 555), ('ain', 556), ('waiting', 557), ('646', 558), ('secondplace', 559), ('walkup', 560), ('homers', 561), ('common', 562), ('feature', 563), ('571', 564), ('labrum', 565), ('milwaukee', 566), ('originally', 567), ('contender', 568), ('85', 569), ('week', 570), ('upset', 571), ('rockets', 572), ('do', 573), ('sit', 574), ('feet', 575), ('fortnight', 576), ('camera', 577), ('being', 578), ('muscle', 579), ('with', 580), ('gem', 581), ('guaranteed', 582), ('assignments', 583), ('statements', 584), ('tributes', 585), ('concentrate', 586), ('point', 587), ('law', 588), ('andrew', 589), ('periods', 590), ('among', 591), ('shinji', 592), ('kyle', 593), ('ruled', 594), ('notice', 595), ('rehab', 596), ('stints', 597), ('suckerpunch', 598), ('lions', 599), ('shrinking', 600), ('installed', 601), ('sunny', 602), ('104', 603), ('cake', 604), ('record', 605), ('twoseam', 606), ('paired', 607), ('correspondingly', 608), ('rasmus', 609), ('weve', 610), ('cha', 611), ('sardar', 612), ('42nd', 613), ('restarted', 614), ('succeed', 615), ('revere', 616), ('might', 617), ('antar', 618), ('contributed', 619), ('wwk', 620), ('huston', 621), ('around', 622), ('leicester', 623), ('stielike', 624), ('rivera', 625), ('mettle', 626), ('recover', 627), ('siamese', 628), ('bloated', 629), ('huge', 630), ('races', 631), ('foxes', 632), ('opposition', 633), ('wellpositioned', 634), ('make', 635), ('greeted', 636), ('surrendered', 637), ('laos', 638), ('lesen', 639), ('wherever', 640), ('experienced', 641), ('award', 642), ('fourseamer', 643), ('ideal', 644), ('fortune', 645), ('reinvigorate', 646), ('humphrey', 647), ('giants', 648), ('48thranked', 649), ('haul', 650), ('feb', 651), ('robertsons', 652), ('bigmoney', 653), ('jobs', 654), ('attackleading', 655), ('central', 656), ('doctor', 657), ('lead', 658), ('awfully', 659), ('mostthis', 660), ('old', 661), ('httpwwwsouthwaleseveningpostcoukkisungyuengswanseacityfoldgarrymonkstory27818980detailstoryhtmlixzz48qqihqj1', 662), ('usually', 663), ('severity', 664), ('lucky', 665), ('perfect', 666), ('vitality', 667), ('task', 668), ('costing', 669), ('pass', 670), ('swat', 671), ('strongest', 672), ('groin', 673), ('entertainment', 674), ('papastathopoulos', 675), ('respect', 676), ('cap', 677), ('ross', 678), ('workload', 679), ('blaze', 680), ('john', 681), ('whose', 682), ('postmatch', 683), ('fukuokabased', 684), ('sat', 685), ('knew', 686), ('winner', 687), ('greater', 688), ('club', 689), ('owngoal', 690), ('cody', 691), ('elected', 692), ('table', 693), ('alone', 694), ('himself', 695), ('choo', 696), ('13', 697), ('perceived', 698), ('try', 699), ('japans', 700), ('calmness', 701), ('posting', 702), ('jermaine', 703), ('brain', 704), ('ninth', 705), ('requirements', 706), ('baumgartl', 707), ('connections', 708), ('district', 709), ('indicated', 710), ('hojbjerg', 711), ('informal', 712), ('shining', 713), ('ruth', 714), ('emirates', 715), ('hasnt', 716), ('divisions', 717), ('bentalebs', 718), ('named', 719), ('met', 720), ('picking', 721), ('red', 722), ('latter', 723), ('square', 724), ('grateful', 725), ('augsburgs', 726), ('combative', 727), ('seunghwan', 728), ('pulled', 729), ('sniffed', 730), ('hope', 731), ('thomas', 732), ('starters', 733), ('guy', 734), ('pointed', 735), ('whistle', 736), ('surprising', 737), ('newcastle', 738), ('mentality', 739), ('too', 740), ('apt', 741), ('that', 742), ('1157', 743), ('greentown', 744), ('gyeonggi', 745), ('uefa', 746), ('phone', 747), ('baffled', 748), ('examples', 749), ('shake', 750), ('compiled', 751), ('the', 752), ('bullpens', 753), ('disabled', 754), ('courtesy', 755), ('incentives', 756), ('every', 757), ('maid', 758), ('sanchez', 759), ('bolstered', 760), ('as', 761), ('marco', 762), ('petr', 763), ('augment', 764), ('cech', 765), ('shot', 766), ('fifteenyear', 767), ('linked', 768), ('workout', 769), ('cano', 770), ('realize', 771), ('oh', 772), ('somewhere', 773), ('balls', 774), ('reiterate', 775), ('alexis', 776), ('contacted', 777), ('goalkeepers', 778), ('medalwinning', 779), ('joining', 780), ('first', 781), ('geynrikh', 782), ('mats', 783), ('outs', 784), ('specimen', 785), ('split', 786), ('masanori', 787), ('opposing', 788), ('exercise', 789), ('six', 790), ('cannon', 791), ('440', 792), ('hero', 793), ('scheduled', 794), ('oppositefield', 795), ('arena', 796), ('areas', 797), ('actual', 798), ('morgan', 799), ('aston', 800), ('albion', 801), ('read', 802), ('points', 803), ('coped', 804), ('broke', 805), ('out', 806), ('decline', 807), ('lurks', 808), ('wainwright', 809), ('glory', 810), ('3230', 811), ('warm', 812), ('staying', 813), ('outfield', 814), ('drive', 815), ('settle', 816), ('header', 817), ('happens', 818), ('notch', 819), ('buxton', 820), ('reliever', 821), ('setting', 822), ('ranks', 823), ('event', 824), ('field', 825), ('canceled', 826), ('relied', 827), ('tylor', 828), ('dortmund', 829), ('strong', 830), ('constant', 831), ('strikes', 832), ('tickets', 833), ('byung', 834), ('roman', 835), ('campbell', 836), ('barely', 837), ('but', 838), ('owns', 839), ('detroits', 840), ('dean', 841), ('thailand', 842), ('belarus', 843), ('reunion', 844), ('player', 845), ('off', 846), ('iran', 847), ('careerhigh', 848), ('metrodome', 849), ('fill', 850), ('arsene', 851), ('replacement', 852), ('transferred', 853), ('lamented', 854), ('lengthy', 855), ('there', 856), ('footballers', 857), ('showed', 858), ('villa', 859), ('defend', 860), ('includes', 861), ('meeting', 862), ('favorably', 863), ('yardstick', 864), ('tricky', 865), ('jan', 866), ('ahead', 867), ('looming', 868), ('second', 869), ('deserved', 870), ('paid', 871), ('route', 872), ('replay', 873), ('find', 874), ('397', 875), ('centreback', 876), ('pop', 877), ('comefrombehind', 878), ('halftime', 879), ('slow', 880), ('source', 881), ('disrupt', 882), ('matt', 883), ('previously', 884), ('had', 885), ('steady', 886), ('callsenbracker', 887), ('außenverteidiger', 888), ('201214', 889), ('whatever', 890), ('required', 891), ('throws', 892), ('build', 893), ('coaching', 894), ('leverkusen', 895), ('press', 896), ('66', 897), ('senior', 898), ('ronald', 899), ('boston', 900), ('airport', 901), ('server', 902), ('2324', 903), ('completing', 904), ('relieving', 905), ('mamayevs', 906), ('capitalise', 907), ('ohio', 908), ('teams', 909), ('countries', 910), ('anywhere', 911), ('sealed', 912), ('reus', 913), ('consider', 914), ('automatic', 915), ('regret', 916), ('jeff', 917), ('busiest', 918), ('pursue', 919), ('stambouli', 920), ('westphalians', 921), ('reigning', 922), ('interconfederation', 923), ('qpr', 924), ('talent', 925), ('why', 926), ('going', 927), ('leading', 928), ('momentum', 929), ('2308', 930), ('stayed', 931), ('10', 932), ('terminate', 933), ('renewing', 934), ('endofseason', 935), ('ripken', 936), ('wolves', 937), ('it', 938), ('highranked', 939), ('statcast', 940), ('career', 941), ('grosskreutz', 942), ('monaco', 943), ('bat', 944), ('for', 945), ('pain', 946), ('applies', 947), ('nuts', 948), ('width', 949), ('httpenyibadacomarticles11117820160323afc2018worldcupqualifyingsouthkoreavslebanonpreviewhtmixzz48qmvasli', 950), ('returned', 951), ('earned', 952), ('based', 953), ('drastic', 954), ('onbase', 955), ('legal', 956), ('498', 957), ('facing', 958), ('28th', 959), ('twolegged', 960), ('scouting', 961), ('clubs', 962), ('interesting', 963), ('kuwait', 964), ('wonderful', 965), ('lefty', 966), ('percent', 967), ('past', 968), ('righthander', 969), ('bavarian', 970), ('405', 971), ('toddler', 972), ('significantly', 973), ('classy', 974), ('elevated', 975), ('duplicate', 976), ('zorc', 977), ('overload', 978), ('ended', 979), ('berths', 980), ('well', 981), ('focussed', 982), ('indicted', 983), ('httpwwwsouthwaleseveningpostcoukkisungyuengswanseacityfoldgarrymonkstory27818980detailstoryhtmlbwbae7sp3edodb5199', 984), ('regular', 985), ('continue', 986), ('near', 987), ('participate', 988), ('performances', 989), ('flew', 990), ('mediocre', 991), ('tottenhams', 992), ('hardworking', 993), ('dominated', 994), ('84mph', 995), ('poorly', 996), ('disappointmentson', 997), ('especially', 998), ('landing', 999), ('sun', 1000), ('enemies', 1001), ('havent', 1002), ('boot', 1003), ('alexander', 1004), ('spot', 1005), ('slugging', 1006), ('present', 1007), ('syria', 1008), ('say', 1009), ('hold', 1010), ('losses', 1011), ('gap', 1012), ('solid', 1013), ('westphalian', 1014), ('visa', 1015), ('easier', 1016), ('pyongyang', 1017), ('goal', 1018), ('choices', 1019), ('largely', 1020), ('does', 1021), ('spots', 1022), ('shown', 1023), ('orioles', 1024), ('bobadilla', 1025), ('stretches', 1026), ('particular', 1027), ('loves', 1028), ('chief', 1029), ('theres', 1030), ('twoyear', 1031), ('jesus', 1032), ('extra', 1033), ('repair', 1034), ('ryu', 1035), ('vulnerable', 1036), ('commented', 1037), ('placing', 1038), ('glorious', 1039), ('into', 1040), ('characterised', 1041), ('except', 1042), ('spectators', 1043), ('303387514', 1044), ('bears', 1045), ('somewhat', 1046), ('story', 1047), ('344', 1048), ('excitement', 1049), ('trade', 1050), ('rivals', 1051), ('2022', 1052), ('key', 1053), ('designated', 1054), ('2017what', 1055), ('breaking', 1056), ('candidates', 1057), ('roberts', 1058), ('spent', 1059), ('fc', 1060), ('passan', 1061), ('ngolo', 1062), ('dallas', 1063), ('share', 1064), ('strugglers', 1065), ('telling', 1066), ('surprise', 1067), ('garry', 1068), ('gathered', 1069), ('innings', 1070), ('adding', 1071), ('ones', 1072), ('tokyo', 1073), ('62', 1074), ('bryce', 1075), ('lively', 1076), ('responded', 1077), ('shortly', 1078), ('brandon', 1079), ('crownnasser', 1080), ('listed', 1081), ('brom', 1082), ('declared', 1083), ('sadaharu', 1084), ('assists', 1085), ('mustache', 1086), ('bad', 1087), ('wife', 1088), ('23', 1089), ('arise', 1090), ('28', 1091), ('arrived', 1092), ('250', 1093), ('sent', 1094), ('clinched', 1095), ('seigrist', 1096), ('spain', 1097), ('goalscoring', 1098), ('whoscoredcom', 1099), ('2', 1100), ('twogame', 1101), ('relatively', 1102), ('fewer', 1103), ('impressed', 1104), ('allow', 1105), ('enhancing', 1106), ('arrest', 1107), ('down', 1108), ('gift', 1109), ('will', 1110), ('celebrate', 1111), ('bringing', 1112), ('court', 1113), ('granted', 1114), ('retired', 1115), ('surrounding', 1116), ('australia', 1117), ('rehabilitation', 1118), ('ascent', 1119), ('201213', 1120), ('genuine', 1121), ('37', 1122), ('seek', 1123), ('are', 1124), ('fk', 1125), ('niedermeier', 1126), ('accommodate', 1127), ('responsibility', 1128), ('calls', 1129), ('2491', 1130), ('retirement', 1131), ('arguably', 1132), ('success', 1133), ('26yearold', 1134), ('begins', 1135), ('nine', 1136), ('breathtaking', 1137), ('wed', 1138), ('filling', 1139), ('winter', 1140), ('27th', 1141), ('mvp', 1142), ('michael', 1143), ('partnered', 1144), ('ankle', 1145), ('blackwings2011', 1146), ('volume', 1147), ('shane', 1148), ('badly', 1149), ('entirely', 1150), ('rotation', 1151), ('name', 1152), ('mentioned', 1153), ('virgil', 1154), ('67th', 1155), ('game', 1156), ('eagles', 1157), ('praising', 1158), ('marched', 1159), ('d', 1160), ('141', 1161), ('sufficient', 1162), ('diving', 1163), ('uli', 1164), ('germanys', 1165), ('williams', 1166), ('necessarily', 1167), ('alburquerque', 1168), ('recovered', 1169), ('controlled', 1170), ('sports', 1171), ('nemesis', 1172), ('therefore', 1173), ('guess', 1174), ('kieran', 1175), ('heeseop', 1176), ('north', 1177), ('needed', 1178), ('lot', 1179), ('17', 1180), ('groups', 1181), ('tie', 1182), ('intrinsic', 1183), ('yg', 1184), ('heart', 1185), ('country', 1186), ('irishmans', 1187), ('matchday', 1188), ('shame', 1189), ('jiman', 1190), ('experiencing', 1191), ('imagination', 1192), ('talents', 1193), ('clinch', 1194), ('spiranovic', 1195), ('352', 1196), ('before', 1197), ('thanks', 1198), ('dust', 1199), ('bottom', 1200), ('friend', 1201), ('weak', 1202), ('pull', 1203), ('coming', 1204), ('prefers', 1205), ('wrongly', 1206), ('khalil', 1207), ('attack', 1208), ('secretary', 1209), ('32nd', 1210), ('potato', 1211), ('chinese', 1212), ('rights', 1213), ('pitch', 1214), ('formation', 1215), ('arsenal', 1216), ('world', 1217), ('atop', 1218), ('plateau', 1219), ('wall', 1220), ('overall', 1221), ('fridays', 1222), ('leap', 1223), ('disappointing', 1224), ('represented', 1225), ('scary', 1226), ('or', 1227), ('category', 1228), ('sittng', 1229), ('quite', 1230), ('punch', 1231), ('hilal', 1232), ('wise', 1233), ('sequence', 1234), ('alderweireld', 1235), ('yen', 1236), ('francesco', 1237), ('kante', 1238), ('from', 1239), ('travelled', 1240), ('perfectly', 1241), ('morneau', 1242), ('departure', 1243), ('estimated', 1244), ('popular', 1245), ('aerial', 1246), ('nexen', 1247), ('20pitch', 1248), ('hot', 1249), ('impressions', 1250), ('attempt', 1251), ('very', 1252), ('koreans', 1253), ('wary', 1254), ('secondary', 1255), ('middle', 1256), ('submitting', 1257), ('compete', 1258), ('lees', 1259), ('tally', 1260), ('stats', 1261), ('development', 1262), ('throwing', 1263), ('fernandez', 1264), ('cubs', 1265), ('rightly', 1266), ('bert', 1267), ('least', 1268), ('arrival', 1269), ('yellows', 1270), ('tommy', 1271), ('httpwwwswanseavitalfootballcoukarticleaspa446198ixzz48qois9gi', 1272), ('cant', 1273), ('matchups', 1274), ('son', 1275), ('doosan', 1276), ('massive', 1277), ('2009', 1278), ('statuses', 1279), ('chris', 1280), ('morning', 1281), ('demble', 1282), ('free', 1283), ('offer', 1284), ('post', 1285), ('challenge', 1286), ('finnbogason', 1287), ('throw', 1288), ('mean', 1289), ('now', 1290), ('exciting', 1291), ('2000s', 1292), ('know', 1293), ('mercedesbenzarena', 1294), ('playoffs', 1295), ('asian', 1296), ('countryman', 1297), ('threebagger', 1298), ('characteristics', 1299), ('gets', 1300), ('have', 1301), ('saturdays', 1302), ('member', 1303), ('dominance', 1304), ('comes', 1305), ('tired', 1306), ('predicted', 1307), ('fire', 1308), ('sounds', 1309), ('cheol', 1310), ('even', 1311), ('clash', 1312), ('uncommon', 1313), ('stamford', 1314), ('dented', 1315), ('true', 1316), ('sie', 1317), ('steps', 1318), ('swanseas', 1319), ('champions', 1320), ('mauer', 1321), ('retire', 1322), ('passing', 1323), ('english', 1324), ('rumors', 1325), ('single', 1326), ('match', 1327), ('view', 1328), ('julian', 1329), ('markshane', 1330), ('expressed', 1331), ('meet', 1332), ('myanmar', 1333), ('hart', 1334), ('surpriseas', 1335), ('options', 1336), ('44', 1337), ('conference', 1338), ('david', 1339), ('slump', 1340), ('champion', 1341), ('cruz', 1342), ('quipped', 1343), ('sergio', 1344), ('winless', 1345), ('subsequent', 1346), ('205', 1347), ('fancy', 1348), ('double', 1349), ('become', 1350), ('comfortable', 1351), ('successful', 1352), ('emotionally', 1353), ('yacob', 1354), ('97mph', 1355), ('hes', 1356), ('credit', 1357), ('slowerspeed', 1358), ('got', 1359), ('nicknames', 1360), ('yonhap', 1361), ('20', 1362), ('joel', 1363), ('500', 1364), ('youve', 1365), ('trying', 1366), ('sahlawi', 1367), ('than', 1368), ('interested', 1369), ('sunshine', 1370), ('where', 1371), ('2004', 1372), ('several', 1373), ('indeed', 1374), ('quality', 1375), ('verzichten', 1376), ('becoming', 1377), ('porto', 1378), ('transition', 1379), ('transfers', 1380), ('social', 1381), ('baseaball', 1382), ('harsh', 1383), ('fortyfour', 1384), ('marwijk', 1385), ('blasts', 1386), ('taiwanese', 1387), ('close', 1388), ('comment', 1389), ('situations', 1390), ('sarach', 1391), ('feat', 1392), ('sept', 1393), ('those', 1394), ('injured', 1395), ('drove', 1396), ('watched', 1397), ('threeyear', 1398), ('separate', 1399), ('crack', 1400), ('groundouts', 1401), ('charge', 1402), ('slipped', 1403), ('mere', 1404), ('suspected', 1405), ('253', 1406), ('undergoing', 1407), ('appropriate', 1408), ('refunded', 1409), ('suwon', 1410), ('twin', 1411), ('frequented', 1412), ('go', 1413), ('firstteam', 1414), ('examination', 1415), ('clayton', 1416), ('hard', 1417), ('korean', 1418), ('56', 1419), ('which', 1420), ('extreme', 1421), ('run', 1422), ('belted', 1423), ('overseas', 1424), ('fifth', 1425), ('wins', 1426), ('fit', 1427), ('strongly', 1428), ('chased', 1429), ('looked', 1430), ('fourthplace', 1431), ('relax', 1432), ('drew', 1433), ('strict', 1434), ('35yearold', 1435), ('town', 1436), ('hand', 1437), ('russian', 1438), ('nights', 1439), ('smartly', 1440), ('goalpost', 1441), ('rosenthal', 1442), ('1996', 1443), ('5', 1444), ('seonghwan', 1445), ('jd', 1446), ('states', 1447), ('33000', 1448), ('effect', 1449), ('request', 1450), ('opportunities', 1451), ('hours', 1452), ('invigorated', 1453), ('unguarded', 1454), ('threeandahalf', 1455), ('pushy', 1456), ('yaya', 1457), ('march', 1458), ('davies', 1459), ('routledge', 1460), ('excluded', 1461), ('trevor', 1462), ('failure', 1463), ('trio', 1464), ('postseason', 1465), ('rate', 1466), ('pavel', 1467), ('end', 1468), ('prevent', 1469), ('reach', 1470), ('foreign', 1471), ('thats', 1472), ('struck', 1473), ('taking', 1474), ('these', 1475), ('positive', 1476), ('rock', 1477), ('date', 1478), ('19th', 1479), ('benefit', 1480), ('9', 1481), ('rise', 1482), ('intends', 1483), ('npb', 1484), ('standings', 1485), ('behind', 1486), ('november', 1487), ('attacks', 1488), ('situationstactical', 1489), ('diamondbacks', 1490), ('bayer', 1491), ('282368524', 1492), ('respectivelyso', 1493), ('90th3', 1494), ('left', 1495), ('hertha', 1496), ('reed', 1497), ('yoon', 1498), ('finalized', 1499), ('seein', 1500), ('not', 1501), ('309', 1502), ('wonder', 1503), ('targets', 1504), ('league', 1505), ('contest', 1506), ('maintaining', 1507), ('twelve', 1508), ('youssef', 1509), ('excited', 1510), ('five', 1511), ('muangthong', 1512), ('provided', 1513), ('hubert', 1514), ('shellshocked', 1515), ('talk', 1516), ('relayed', 1517), ('charton', 1518), ('van', 1519), ('makes', 1520), ('walked', 1521), ('day', 1522), ('6for14', 1523), ('terrific', 1524), ('collecting', 1525), ('doubledigit', 1526), ('someone', 1527), ('japanese', 1528), ('expects', 1529), ('easy', 1530), ('region', 1531), ('masons', 1532), ('regional', 1533), ('holes', 1534), ('forwardthe', 1535), ('allstar', 1536), ('id', 1537), ('late', 1538), ('shows', 1539), ('wrapping', 1540), ('relieve', 1541), ('leads', 1542), ('sevengoal', 1543), ('penultimate', 1544), ('unlucky', 1545), ('imposed', 1546), ('comfort', 1547), ('importance', 1548), ('replied', 1549), ('nippon', 1550), ('im', 1551), ('interjection', 1552), ('mix', 1553), ('scott', 1554), ('cleveland', 1555), ('center', 1556), ('explained', 1557), ('preparty', 1558), ('actions', 1559), ('696', 1560), ('season', 1561), ('purpose', 1562), ('contributor', 1563), ('deep', 1564), ('parkbang', 1565), ('blemish', 1566), ('august', 1567), ('climes', 1568), ('focus', 1569), ('contusion', 1570), ('wish', 1571), ('tossed', 1572), ('waited', 1573), ('partner', 1574), ('10th', 1575), ('help', 1576), ('testifies', 1577), ('manchester', 1578), ('revival', 1579), ('okay', 1580), ('benjamin', 1581), ('exactly', 1582), ('sox', 1583), ('deandre', 1584), ('czech', 1585), ('gonzalo', 1586), ('crystal', 1587), ('harry', 1588), ('suspends', 1589), ('sweveningpost', 1590), ('ashley', 1591), ('fascinating', 1592), ('rue', 1593), ('aside', 1594), ('safeco', 1595), ('translator', 1596), ('affiliation', 1597), ('soccer', 1598), ('buffaloes', 1599), ('giving', 1600), ('favorites', 1601), ('steven', 1602), ('sloppier', 1603), ('tied', 1604), ('spectator', 1605), ('backtoback', 1606), ('36th', 1607), ('extremevelocity', 1608), ('authorities', 1609), ('adds', 1610), ('republic', 1611), ('arrive', 1612), ('robust', 1613), ('soldado', 1614), ('thirdplace', 1615), ('april', 1616), ('sliders', 1617), ('33yearold', 1618), ('dwell', 1619), ('sleep', 1620), ('spitting', 1621), ('jeeho', 1622), ('public', 1623), ('righthanded', 1624), ('combined', 1625), ('military', 1626), ('department', 1627), ('operations', 1628), ('diminished', 1629), ('90th', 1630), ('needless', 1631), ('surely', 1632), ('could', 1633), ('malaysia', 1634), ('entered', 1635), ('interest', 1636), ('struggling', 1637), ('expect', 1638), ('feared', 1639), ('connects', 1640), ('willing', 1641), ('whip', 1642), ('whos', 1643), ('managing', 1644), ('ton', 1645), ('roger', 1646), ('eduardo', 1647), ('goto', 1648), ('understandably', 1649), ('managed', 1650), ('josh', 1651), ('outcome', 1652), ('firing', 1653), ('friday', 1654), ('disrupted', 1655), ('bosses', 1656), ('wood', 1657), ('homerun', 1658), ('urgency', 1659), ('insisted', 1660), ('fresher', 1661), ('counts', 1662), ('hens', 1663), ('announcers', 1664), ('unbeatable', 1665), ('greinke', 1666), ('inwardly', 1667), ('lineup', 1668), ('rbis', 1669), ('seoul', 1670), ('warning', 1671), ('performers', 1672), ('format', 1673), ('couldnt', 1674), ('fiorentina', 1675), ('sixteen', 1676), ('twohit', 1677), ('176th', 1678), ('282', 1679), ('wants', 1680), ('jeongho', 1681), ('manage', 1682), ('a', 1683), ('card', 1684), ('drawling', 1685), ('sokratis', 1686), ('630', 1687), ('lost', 1688), ('2014', 1689), ('excellent', 1690), ('bring', 1691), ('httpwwwsouthwaleseveningpostcoukswanseacitymidfielderkisungyuengsaysstory28094371detailstoryhtmlixzz48qqsah3t', 1692), ('1950', 1693), ('gives', 1694), ('themselves', 1695), ('bafetimbi', 1696), ('sidon', 1697), ('janeiro', 1698), ('enough', 1699), ('amoory', 1700), ('rarely', 1701), ('create', 1702), ('evidence', 1703), ('nov', 1704), ('possible', 1705), ('successfully', 1706), ('traded', 1707), ('ending', 1708), ('helping', 1709), ('stuff', 1710), ('ran', 1711), ('threesome', 1712), ('i', 1713), ('allimportant', 1714), ('soon', 1715), ('fer', 1716), ('overlooked', 1717), ('harm', 1718), ('promising', 1719), ('compare', 1720), ('likes', 1721), ('play', 1722), ('finishing', 1723), ('marking', 1724), ('cardinals', 1725), ('interview', 1726), ('candidate', 1727), ('january', 1728), ('substitutes', 1729), ('httpwwwsunderlandechocomsportfootballsunderlandafcswanseawintheperfecttonicforwearysunderland17675917ixzz48qs2ogwh', 1730), ('went', 1731), ('2017', 1732), ('awesome', 1733), ('14', 1734), ('angry', 1735), ('disciplined', 1736), ('stielikes', 1737), ('glimpses', 1738), ('posh', 1739), ('32', 1740), ('garnered', 1741), ('put', 1742), ('individual', 1743), ('ben', 1744), ('agency', 1745), ('possibility', 1746), ('rp', 1747), ('squared', 1748), ('thursday', 1749), ('hitting', 1750), ('2007', 1751), ('tax', 1752), ('sure', 1753), ('article', 1754), ('tuchels', 1755), ('status', 1756), ('want', 1757), ('happened', 1758), ('cupbeating', 1759), ('participating', 1760), ('showing', 1761), ('footballer', 1762), ('247', 1763), ('laws', 1764), ('remembrance', 1765), ('returning', 1766), ('hamam', 1767), ('kagawa', 1768), ('thenmanager', 1769), ('yankees', 1770), ('equaliser', 1771), ('air', 1772), ('didavi', 1773), ('nonetheless', 1774), ('koemans', 1775), ('tibia', 1776), ('traveled', 1777), ('passes', 1778), ('delay', 1779), ('levels', 1780), ('heels', 1781), ('borussia', 1782), ('smashed', 1783), ('matter', 1784), ('remains', 1785), ('dutchman', 1786), ('pictwittercomc8cb0ohnni', 1787), ('leaguer', 1788), ('earn', 1789), ('market', 1790), ('small', 1791), ('201415', 1792), ('final', 1793), ('positions', 1794), ('hotpsur', 1795), ('constitutes', 1796), ('midmay', 1797), ('numbers', 1798), ('advantage', 1799), ('seasontheyre', 1800), ('emmanuel', 1801), ('roam', 1802), ('teammates', 1803), ('closed', 1804), ('mph', 1805), ('taeguk', 1806), ('20112012', 1807), ('andre', 1808), ('flexible', 1809), ('dier', 1810), ('representation', 1811), ('crosscity', 1812), ('whole', 1813), ('roundrobin', 1814), ('290', 1815), ('year', 1816), ('shut', 1817), ('koscielny', 1818), ('tactically', 1819), ('skysports', 1820), ('impression', 1821), ('dropped', 1822), ('handed', 1823), ('balances', 1824), ('contact', 1825), ('legend', 1826), ('inform', 1827), ('kept', 1828), ('273', 1829), ('star', 1830), ('amount', 1831), ('exception', 1832), ('gain', 1833), ('ourselves', 1834), ('data', 1835), ('pitches', 1836), ('2815', 1837), ('eightpoint', 1838), ('scout', 1839), ('manuel', 1840), ('sessions', 1841), ('eastern', 1842), ('june', 1843), ('western', 1844), ('tim', 1845), ('countryspeaking', 1846), ('fraught', 1847), ('recovering', 1848), ('flight', 1849), ('hummels', 1850), ('olympic', 1851), ('toures', 1852), ('reprimanded', 1853), ('placebowise', 1854), ('fashion', 1855), ('baltimore', 1856), ('zone', 1857), ('anda', 1858), ('proud', 1859), ('koos', 1860), ('needing', 1861), ('domestic', 1862), ('turning', 1863), ('increases', 1864), ('credentials', 1865), ('gone', 1866), ('assured', 1867), ('uae', 1868), ('unclear', 1869), ('deciding', 1870), ('attention', 1871), ('handled', 1872), ('bremen', 1873), ('oppositionson', 1874), ('became', 1875), ('latest', 1876), ('weekend', 1877), ('creating', 1878), ('experts', 1879), ('sizeable', 1880), ('profile', 1881), ('rostov', 1882), ('hopefully', 1883), ('then', 1884), ('thought', 1885), ('dangerous', 1886), ('can', 1887), ('cologne', 1888), ('27', 1889), ('warrant', 1890), ('35pitch', 1891), ('players', 1892), ('foreigngambling', 1893), ('knows', 1894), ('mlbs', 1895), ('meanwhile', 1896), ('tigers', 1897), ('adam', 1898), ('direction', 1899), ('silent', 1900), ('transfer', 1901), ('volley', 1902), ('2008', 1903), ('beneficial', 1904), ('precautionary', 1905), ('hangzhou', 1906), ('francisco', 1907), ('stateside', 1908), ('fun', 1909), ('contending', 1910), ('foxsportscom', 1911), ('throughout', 1912), ('teammate', 1913), ('koo', 1914), ('move', 1915), ('lowstakes', 1916), ('round', 1917), ('ive', 1918), ('owners', 1919), ('sacked', 1920), ('saturday', 1921), ('practice', 1922), ('haidar', 1923), ('recalled', 1924), ('flying', 1925), ('tougher', 1926), ('poor', 1927), ('performing', 1928), ('swiping', 1929), ('receive', 1930), ('brothers', 1931), ('uzbekistan', 1932), ('suited', 1933), ('effort', 1934), ('sixyear', 1935), ('their', 1936), ('ban', 1937), ('classic', 1938), ('dozier', 1939), ('managers', 1940), ('soreness', 1941), ('gametime', 1942), ('midfield', 1943), ('qualify', 1944), ('visually', 1945), ('counter', 1946), ('knocking', 1947), ('worsen', 1948), ('41350', 1949), ('demands', 1950), ('70', 1951), ('ortiz', 1952), ('talked', 1953), ('summons', 1954), ('castro', 1955), ('one', 1956), ('smith', 1957), ('some', 1958), ('sharpness', 1959), ('expected', 1960), ('relief', 1961), ('banned', 1962), ('cool', 1963), ('breakingball', 1964), ('29', 1965), ('blue', 1966), ('rookies', 1967), ('safety', 1968), ('fivegoal', 1969), ('serve', 1970), ('gelsenkirchen', 1971), ('night', 1972), ('starter', 1973), ('because', 1974), ('alfreo', 1975), ('mozeliak', 1976), ('pochettinos', 1977), ('builtin', 1978), ('donaldson', 1979), ('tying', 1980), ('after', 1981), ('encouraging', 1982), ('athletes', 1983), ('saw', 1984), ('triplea', 1985), ('wanted', 1986), ('camp', 1987), ('marcel', 1988), ('longtime', 1989), ('aware', 1990), ('produced', 1991), ('police', 1992), ('57thminute', 1993), ('reached', 1994), ('lesson', 1995), ('july', 1996), ('analysis', 1997), ('3220', 1998), ('kaiserslautern', 1999), ('its', 2000), ('curious', 2001), ('waits', 2002), ('caused', 2003), ('6foot4', 2004), ('everybody', 2005), ('perhaps', 2006), ('fighting', 2007), ('arizona', 2008), ('bright', 2009), ('planned', 2010), ('white', 2011), ('nationals', 2012), ('januzaj', 2013), ('blanked', 2014), ('clutch', 2015), ('what', 2016), ('heungmin', 2017), ('honor', 2018), ('exempted', 2019), ('during', 2020), ('crooks', 2021), ('tsao', 2022), ('part', 2023), ('crowded', 2024), ('serie', 2025), ('europes', 2026), ('36', 2027), ('pleased', 2028), ('of', 2029), ('velocity', 2030), ('suspension', 2031), ('young', 2032), ('home', 2033), ('check', 2034), ('aff', 2035), ('stages', 2036), ('25man', 2037), ('258', 2038), ('466', 2039), ('lightening', 2040), ('count', 2041), ('enable', 2042), ('monday', 2043), ('optout', 2044), ('enthusiasm', 2045), ('750', 2046), ('nashville', 2047), ('920', 2048), ('local', 2049), ('conclude', 2050), ('global', 2051), ('making', 2052), ('alfreð', 2053), ('280', 2054), ('serious', 2055), ('772', 2056), ('friedman', 2057), ('briefly', 2058), ('adapted', 2059), ('up', 2060), ('recognition', 2061), ('daeho', 2062), ('144', 2063), ('heard', 2064), ('yakult', 2065), ('al', 2066), ('similar', 2067), ('discomfort', 2068), ('sturdy', 2069), ('recording', 2070), ('wait', 2071), ('floor', 2072), ('report', 2073), ('afc', 2074), ('bournemouth', 2075), ('pitcherlefthander', 2076), ('20102011', 2077), ('taken', 2078), ('believes', 2079), ('break', 2080), ('threw', 2081), ('accomplished', 2082), ('resultit', 2083), ('october', 2084), ('southampton', 2085), ('scored', 2086), ('veteran', 2087), ('dismal', 2088), ('need', 2089), ('pace', 2090), ('12point', 2091), ('nobearing', 2092), ('brett', 2093), ('netted', 2094), ('bench', 2095), ('certain', 2096), ('60', 2097), ('faithful', 2098), ('eaff', 2099), ('selected', 2100), ('strike', 2101), ('doubt', 2102), ('window', 2103), ('lauded', 2104), ('midfielders', 2105), ('claim', 2106), ('scenario', 2107), ('kane', 2108), ('chances', 2109), ('turn', 2110), ('cooperate', 2111), ('mehr', 2112), ('goes', 2113), ('race', 2114), ('30', 2115), ('mark', 2116), ('reveals', 2117), ('native', 2118), ('must', 2119), ('capacity', 2120), ('pro', 2121), ('flops', 2122), ('insists', 2123), ('advantagenext', 2124), ('most', 2125), ('we', 2126), ('fixture', 2127), ('184', 2128), ('impressive', 2129), ('seems', 2130), ('action', 2131), ('opener', 2132), ('whether', 2133), ('sungyueng', 2134), ('2104', 2135), ('euros', 2136), ('awe', 2137), ('option', 2138), ('solidified', 2139), ('esswein', 2140), ('181', 2141), ('secured', 2142), ('lebanon', 2143), ('former', 2144), ('prosecuted', 2145), ('smoothest', 2146), ('minds', 2147), ('victory', 2148), ('rain', 2149), ('sydney', 2150), ('maintain', 2151), ('orix', 2152), ('inexperience', 2153), ('uptown', 2154), ('mid90s', 2155), ('birth', 2156), ('difficult', 2157), ('tension', 2158), ('warriors', 2159), ('okazaki', 2160), ('callup', 2161), ('divided', 2162), ('graces', 2163), ('playoff', 2164), ('easter', 2165), ('explaining', 2166), ('treated', 2167), ('indebted', 2168), ('level', 2169), ('wearing', 2170), ('hitter', 2171), ('wanderers', 2172), ('directly', 2173), ('33rd', 2174), ('httpwwwderwestendesportfussballbvbbvbmussvorerstaufaussenverteidigerjoohoparkverzichtenid11761175htmlplx1956768657', 2175), ('bettered', 2176), ('made', 2177), ('dingers', 2178), ('happy', 2179), ('parties', 2180), ('8', 2181), ('gauging', 2182), ('video', 2183), ('anything', 2184), ('acted', 2185), ('watching', 2186), ('bridge', 2187), ('tuning', 2188), ('22', 2189), ('elsewhere', 2190), ('means', 2191), ('leaders', 2192), ('personality', 2193), ('prolonged', 2194), ('allowing', 2195), ('contributions', 2196), ('wouldnt', 2197), ('seemed', 2198), ('closely', 2199), ('462', 2200), ('criticising', 2201), ('hopes', 2202), ('ayew', 2203), ('diagnosis', 2204), ('keeps', 2205), ('theyve', 2206), ('iraq', 2207), ('freeagent', 2208), ('parading', 2209), ('15', 2210), ('fatigue', 2211), ('ham', 2212), ('powerhitting', 2213), ('deflected', 2214), ('sheet', 2215), ('seeking', 2216), ('photomark', 2217), ('soil', 2218), ('combat', 2219), ('us', 2220), ('allbut', 2221), ('80359capacity', 2222), ('1988', 2223), ('ask', 2224), ('oumari', 2225), ('aforementioned', 2226), ('leadoff', 2227), ('nacer', 2228), ('bruised', 2229), ('signing', 2230), ('allardyce', 2231), ('how', 2232), ('bender', 2233), ('reds', 2234), ('presence', 2235), ('rolls', 2236), ('scoreless', 2237), ('kbos', 2238), ('boss', 2239), ('vfb', 2240), ('highest', 2241), ('indians', 2242), ('jacque', 2243), ('drop', 2244), ('defeated', 2245), ('clue', 2246), ('gruelling', 2247), ('use', 2248), ('zhang', 2249), ('express', 2250), ('blow', 2251), ('unlikely', 2252), ('premier', 2253), ('animations', 2254), ('bid', 2255), ('station', 2256), ('securing', 2257), ('calm', 2258), ('health', 2259), ('socceroos', 2260), ('shuffle', 2261), ('los', 2262), ('impact', 2263), ('song', 2264), ('personnel', 2265), ('underlined', 2266), ('instances', 2267), ('produce', 2268), ('fan', 2269), ('east', 2270), ('brantley', 2271), ('professionally', 2272), ('azmoun', 2273), ('placebo', 2274), ('2018', 2275), ('contracts', 2276), ('injurytime', 2277), ('allen', 2278), ('h', 2279), ('europa', 2280), ('moon', 2281), ('hawks', 2282), ('pose', 2283), ('able', 2284), ('2015', 2285), ('81st', 2286), ('language', 2287), ('draw', 2288), ('timely', 2289), ('hinted', 2290), ('2011', 2291), ('neel', 2292), ('sessegnon', 2293), ('pellegrinis', 2294), ('iranian', 2295), ('121', 2296), ('requested', 2297), ('sits', 2298), ('2016', 2299), ('problematic', 2300), ('saved', 2301), ('584', 2302), ('affiliate', 2303), ('core', 2304), ('refocused', 2305), ('betting', 2306), ('handful', 2307), ('jackie', 2308), ('rankings', 2309), ('afford', 2310), ('allardyces', 2311), ('both', 2312), ('tight', 2313), ('knock', 2314), ('stands', 2315), ('faster', 2316), ('stoppage', 2317), ('beer', 2318), ('gylfi', 2319), ('streak', 2320), ('follow', 2321), ('zack', 2322), ('yoo', 2323), ('gradually', 2324), ('never', 2325), ('bids', 2326), ('by', 2327), ('strategy', 2328), ('production', 2329), ('germans', 2330), ('lefthander', 2331), ('marked', 2332), ('oct', 2333), ('california', 2334), ('pick', 2335), ('care', 2336), ('welcome', 2337), ('bothering', 2338), ('surprises', 2339), ('such', 2340), ('lacked', 2341), ('awaited', 2342), ('sum', 2343), ('plans', 2344), ('walks', 2345), ('rbi', 2346), ('cramp', 2347), ('crowd', 2348), ('95', 2349), ('antonio', 2350), ('marathon', 2351), ('productive', 2352), ('threetime', 2353), ('shinsoo', 2354), ('dip', 2355), ('wakeup', 2356), ('ms', 2357), ('dongwon', 2358), ('backoff', 2359), ('pack', 2360), ('siegrist', 2361), ('downgrading', 2362), ('playmaker', 2363), ('ends', 2364), ('sounded', 2365), ('below', 2366), ('cup', 2367), ('jinsoo', 2368), ('confirmed', 2369), ('threegame', 2370), ('fantastic', 2371), ('strikers', 2372), ('salvage', 2373), ('system', 2374), ('werder', 2375), ('opponent', 2376), ('declined', 2377), ('when', 2378), ('typical', 2379), ('identical', 2380), ('bangkok', 2381), ('however', 2382), ('essentially', 2383), ('suffered', 2384), ('handling', 2385), ('test', 2386), ('23yearsold', 2387), ('rotator', 2388), ('agrees', 2389), ('dramatic', 2390), ('deadline', 2391), ('always', 2392), ('patch', 2393), ('yesterday', 2394), ('stars', 2395), ('sundays', 2396), ('area', 2397), ('notion', 2398), ('walkoff', 2399), ('fifthround', 2400), ('leave', 2401), ('log', 2402), ('et', 2403), ('schuberts', 2404), ('seattle', 2405), ('etihad', 2406), ('root', 2407), ('pressing', 2408), ('saida', 2409), ('fourtime', 2410), ('without', 2411), ('signed', 2412), ('yahoos', 2413), ('146', 2414), ('3m', 2415), ('brought', 2416), ('rely', 2417), ('pen', 2418), ('critical', 2419), ('davis', 2420), ('obp', 2421), ('idea', 2422), ('galore', 2423), ('getting', 2424), ('worry', 2425), ('mri', 2426), ('k', 2427), ('impress', 2428), ('gooden', 2429), ('dele', 2430), ('victorya', 2431), ('takes', 2432), ('set', 2433), ('louis', 2434), ('bans', 2435), ('94', 2436), ('muss', 2437), ('saints', 2438), ('enjoying', 2439), ('marker', 2440), ('joan', 2441), ('jeju', 2442), ('join', 2443), ('1994', 2444), ('nobody', 2445), ('wahbi', 2446), ('opportunity', 2447), ('high', 2448), ('measured', 2449), ('superb', 2450), ('taegeuk', 2451), ('110th', 2452), ('httpwwwsouthwaleseveningpostcoukswanseacitymidfielderkisungyuengwarystory28830025detailstoryhtmlixzz48qq8eoyl', 2453), ('entire', 2454), ('start', 2455), ('prosecutions', 2456), ('punching', 2457), ('value', 2458), ('batters', 2459), ('idle', 2460), ('appreciate', 2461), ('succession', 2462), ('ballparks', 2463), ('48', 2464), ('55', 2465), ('meetings', 2466), ('93', 2467), ('sloppy', 2468), ('majorleague', 2469), ('since', 2470), ('mariano', 2471), ('cost', 2472), ('106', 2473), ('catchers', 2474), ('fatal', 2475), ('asia', 2476), ('once', 2477), ('unable', 2478), ('12th', 2479), ('looking', 2480), ('appeared', 2481), ('participant', 2482), ('ground', 2483), ('monk', 2484), ('09', 2485), ('shaping', 2486), ('condition', 2487), ('fourth', 2488), ('fifa', 2489), ('no', 2490), ('capped', 2491), ('fierce', 2492), ('affect', 2493), ('life', 2494), ('holding', 2495), ('type', 2496), ('told', 2497), ('216', 2498), ('needs', 2499), ('otherwise', 2500), ('bound', 2501), ('adjustment', 2502), ('travel', 2503), ('site', 2504), ('longest', 2505), ('wondering', 2506), ('yeah', 2507), ('monks', 2508), ('arriving', 2509), ('aguero', 2510), ('miss', 2511), ('rather', 2512), ('79', 2513), ('initial', 2514), ('keeping', 2515), ('remaining', 2516), ('abdulrahman', 2517), ('goals', 2518), ('extraordinary', 2519), ('his', 2520), ('trouble', 2521), ('kim', 2522), ('rejoin', 2523), ('said', 2524), ('look', 2525), ('each', 2526), ('nations', 2527), ('great', 2528), ('rightward', 2529), ('midaugust', 2530), ('sizzling', 2531), ('closers', 2532), ('04', 2533), ('ryan', 2534), ('loud', 2535), ('presumably', 2536), ('promise', 2537), ('backs', 2538), ('eyes', 2539), ('title', 2540), ('starting', 2541), ('records', 2542), ('struggles', 2543), ('change', 2544), ('ticket', 2545), ('basis', 2546), ('finalists', 2547), ('stark', 2548), ('ten', 2549), ('extended', 2550), ('investigate', 2551), ('theyre', 2552), ('european', 2553), ('campaigns', 2554), ('alternative', 2555), ('daily', 2556), ('bundesliga', 2557), ('vital', 2558), ('bonus', 2559), ('stuttering', 2560), ('lone', 2561), ('grounded', 2562), ('testimony', 2563), ('chungyong', 2564), ('186', 2565), ('avoiding', 2566), ('timeline', 2567), ('reporters', 2568), ('negotiating', 2569), ('snap', 2570), ('agreement', 2571), ('338', 2572), ('jaded', 2573), ('saves', 2574), ('swansea', 2575), ('daniel', 2576), ('heavily', 2577), ('hurl', 2578), ('routed', 2579), ('closing', 2580), ('frantically', 2581), ('space', 2582), ('new', 2583), ('available', 2584), ('period', 2585), ('dramatically', 2586), ('ventilator', 2587), ('returns', 2588), ('olivier', 2589), ('unproven', 2590), ('traditional', 2591), ('top10', 2592), ('crush', 2593), ('heaviest', 2594), ('media', 2595), ('amazing', 2596), ('eriksen', 2597), ('says', 2598), ('forced', 2599), ('burriss', 2600), ('545', 2601), ('texas', 2602), ('difference', 2603), ('further', 2604), ('amounted', 2605), ('conditioning', 2606), ('attacker', 2607), ('confident', 2608), ('monchengladbach', 2609), ('peers', 2610), ('severe', 2611), ('seeds', 2612), ('cactus', 2613), ('loan', 2614), ('alive', 2615), ('batted', 2616), ('dont', 2617), ('me', 2618), ('timetable', 2619), ('braun', 2620), ('caution', 2621), ('ultimately', 2622), ('matters', 2623), ('though', 2624), ('russians', 2625), ('forster', 2626), ('main', 2627), ('relationship', 2628), ('forfeited', 2629), ('members', 2630), ('joshua', 2631), ('tworun', 2632), ('september', 2633), ('462foot', 2634), ('under', 2635), ('18th', 2636), ('naming', 2637), ('relishing', 2638), ('added', 2639), ('contribution', 2640), ('between', 2641), ('detailed', 2642), ('switzerland', 2643), ('finalthe', 2644), ('scoring', 2645), ('potentially', 2646), ('angels', 2647), ('bit', 2648), ('games', 2649), ('little', 2650), ('reason', 2651), ('luxury', 2652), ('276', 2653), ('reflected', 2654), ('notched', 2655), ('usual', 2656), ('team', 2657), ('other', 2658), ('already', 2659), ('cork', 2660), ('afternoon', 2661), ('tribes', 2662), ('1', 2663), ('43', 2664), ('chaito', 2665), ('rally', 2666), ('shocking', 2667), ('describe', 2668), ('distance', 2669), ('germany', 2670), ('affair', 2671), ('finally', 2672), ('talisman', 2673), ('argue', 2674), ('results', 2675), ('slowly', 2676), ('keuchel', 2677), ('songs', 2678), ('drilled', 2679), ('german', 2680), ('yang', 2681), ('give', 2682), ('sixth', 2683), ('federation', 2684), ('broadcasters', 2685), ('smoothly', 2686), ('platoon', 2687), ('317', 2688), ('concussion', 2689), ('time', 2690), ('major', 2691), ('twotime', 2692), ('cahill', 2693), ('weigl', 2694), ('recent', 2695), ('jonathan', 2696), ('heartened', 2697), ('healthy', 2698), ('visit', 2699), ('san', 2700), ('brace', 2701), ('toughest', 2702), ('bigleague', 2703), ('fa', 2704), ('stingy', 2705), ('last', 2706), ('operation', 2707), ('snag', 2708), ('your', 2709), ('amounts', 2710), ('consolation', 2711), ('europe', 2712), ('clear', 2713), ('reported', 2714), ('ruhr', 2715), ('unusually', 2716), ('plenty', 2717), ('be', 2718), ('seasons', 2719), ('specifically', 2720), ('puts', 2721), ('sparked', 2722), ('struggle', 2723), ('molitor', 2724), ('2all', 2725), ('workouts', 2726), ('onandoff', 2727), ('swallows', 2728), ('decent', 2729), ('long', 2730), ('mancloser', 2731), ('ki', 2732), ('barbershop', 2733), ('rest', 2734), ('jinsu', 2735), ('40', 2736), ('appear', 2737), ('thus', 2738), ('sunderlandthough', 2739), ('joking', 2740), ('rookie', 2741), ('restrictions', 2742), ('paul', 2743), ('playbyplay', 2744), ('took', 2745), ('didnt', 2746), ('98', 2747), ('friendlies', 2748), ('million', 2749), ('koreanborn', 2750), ('vice', 2751), ('wolgyu', 2752), ('stretch', 2753), ('wayne', 2754), ('rejoined', 2755), ('bundesligas', 2756), ('dipoto', 2757), ('lottery', 2758), ('wales', 2759), ('fitagain', 2760), ('fason', 2761), ('watch', 2762), ('recently', 2763), ('nathan', 2764), ('conducted', 2765), ('upon', 2766), ('resemble', 2767), ('predict', 2768), ('conversation', 2769), ('traits', 2770), ('reinforcement', 2771), ('mound', 2772), ('instead', 2773), ('274', 2774), ('bullpen', 2775), ('guys', 2776), ('more', 2777), ('hook', 2778), ('simply', 2779), ('faces', 2780), ('osakabased', 2781), ('joseph', 2782), ('energetic', 2783), ('talks', 2784), ('real', 2785), ('g', 2786), ('eventually', 2787), ('wear', 2788), ('beyond', 2789), ('fabianski', 2790), ('understand', 2791), ('robinson', 2792), ('known', 2793), ('kawin', 2794), ('extremely', 2795), ('promotion', 2796), ('supported', 2797), ('j', 2798), ('satisfactory', 2799), ('hair', 2800), ('school', 2801), ('schalke', 2802), ('chip', 2803), ('fifthinning', 2804), ('flawless', 2805), ('moved', 2806), ('calling', 2807), ('leg', 2808), ('losing', 2809), ('stuttgart', 2810), ('toes', 2811), ('hour', 2812), ('collected', 2813), ('asking', 2814), ('management', 2815), ('sep', 2816), ('reaching', 2817), ('fascination', 2818), ('notably', 2819), ('performed', 2820), ('just', 2821), ('extend', 2822), ('2005', 2823), ('threshold', 2824), ('lough', 2825), ('tournament', 2826), ('pulls', 2827), ('choi', 2828), ('fiveyear', 2829), ('montero', 2830), ('slowed', 2831), ('fell', 2832), ('c', 2833), ('balcony', 2834), ('krasnodar', 2835), ('sellout', 2836), ('cut', 2837), ('people', 2838), ('spotrac', 2839), ('slight', 2840), ('lose', 2841), ('sporting', 2842), ('same', 2843), ('testament', 2844), ('spending', 2845), ('autumn', 2846), ('fear', 2847), ('favor', 2848), ('80', 2849), ('cedres', 2850), ('seem', 2851), ('preceding', 2852), ('streaming', 2853), ('chinhui', 2854), ('solve', 2855), ('lack', 2856), ('director', 2857), ('everything', 2858), ('scouted', 2859), ('right', 2860), ('1408', 2861), ('unrestricted', 2862), ('scheduling', 2863), ('gunners', 2864), ('works', 2865), ('has', 2866), ('drawn', 2867), ('war', 2868), ('russia', 2869), ('schmelzer', 2870), ('defines', 2871), ('alleviated', 2872), ('fitting', 2873), ('squad', 2874), ('tottenham', 2875), ('veltinsarena', 2876), ('ryus', 2877), ('leaner', 2878), ('this', 2879), ('kis', 2880), ('ariz', 2881), ('today', 2882), ('hoffenheim', 2883), ('blasting', 2884), ('joe', 2885), ('complained', 2886), ('score', 2887), ('standpoint', 2888), ('8300', 2889), ('35th', 2890), ('kanethe', 2891), ('mccarthy', 2892), ('manger', 2893), ('kickoff', 2894), ('thoroughly', 2895), ('consecutive', 2896), ('eat', 2897), ('caribbean', 2898), ('come', 2899), ('pierreemile', 2900), ('runnersup', 2901), ('dinner', 2902), ('multiply', 2903), ('list', 2904), ('61', 2905), ('sultan', 2906), ('anyway', 2907), ('peril', 2908), ('chance', 2909), ('traveling', 2910), ('reemphasising', 2911), ('preparing', 2912), ('les', 2913), ('signs', 2914), ('dearly', 2915), ('martin', 2916), ('did', 2917), ('conceded', 2918), ('depth', 2919), ('you', 2920), ('berlin', 2921), ('schalkes', 2922), ('hectic', 2923), ('regions', 2924), ('swing', 2925), ('grabbing', 2926), ('spurs', 2927), ('overnight', 2928), ('at', 2929), ('halfseason', 2930), ('wednesdays', 2931), ('batting', 2932), ('process', 2933), ('recovery', 2934), ('bolsinger', 2935), ('future', 2936), ('nor', 2937), ('sole', 2938), ('founding', 2939), ('shares', 2940), ('about', 2941), ('session', 2942), ('19', 2943), ('brian', 2944), ('hits', 2945), ('backline', 2946), ('register', 2947), ('south', 2948), ('tournaments', 2949), ('jingu', 2950), ('2006', 2951), ('ohs', 2952), ('am', 2953), ('marginalised', 2954), ('seven', 2955), ('clearly', 2956), ('arsenals', 2957), ('stephane', 2958), ('beforehand', 2959), ('soul', 2960), ('homer', 2961), ('blowout', 2962), ('pounds', 2963), ('begovic', 2964), ('ghoochannejhad', 2965), ('risks', 2966), ('preference', 2967), ('possibly', 2968), ('signee', 2969), ('purchase', 2970), ('claudio', 2971), ('utilized', 2972), ('quarters', 2973), ('m', 2974), ('headtohead', 2975), ('next', 2976), ('concrete', 2977), ('platform', 2978), ('fatigued', 2979), ('episode', 2980), ('guangzhou', 2981), ('proved', 2982), ('holiday', 2983), ('outing', 2984), ('handle', 2985), ('speculation', 2986), ('cleared', 2987), ('twoout', 2988), ('dipped', 2989), ('attempts', 2990), ('49', 2991), ('progression', 2992), ('yedlin', 2993), ('order', 2994), ('mohammad', 2995), ('sides', 2996), ('initially', 2997), ('impressively', 2998), ('precocious', 2999), ('failed', 3000), ('our', 3001), ('underwhelming', 3002), ('underwhelmed', 3003), ('fastballs', 3004), ('spell', 3005), ('underwent', 3006), ('opting', 3007), ('saying', 3008), ('purple', 3009), ('couple', 3010), ('cream', 3011), ('highflying', 3012), ('baseball', 3013), ('solo', 3014), ('december', 3015), ('occasionally', 3016), ('pochettino', 3017), ('2020', 3018), ('utilised', 3019), ('threaded', 3020), ('price', 3021), ('timed', 3022), ('men', 3023), ('ready', 3024), ('involved', 3025), ('englishbased', 3026), ('seasoning', 3027), ('guardian', 3028), ('eurostars', 3029), ('1430', 3030), ('lifted', 3031), ('suggest', 3032), ('clashes', 3033), ('return', 3034), ('assess', 3035), ('marks', 3036), ('found', 3037), ('admit', 3038), ('eager', 3039), ('foot', 3040), ('reasonable', 3041), ('uses', 3042), ('assistance', 3043), ('averaged', 3044), ('secondhalf', 3045), ('important', 3046), ('stefan', 3047), ('easily', 3048), ('gold', 3049), ('capturing', 3050), ('include', 3051), ('homeandaway', 3052), ('ultralongdistance', 3053), ('victories', 3054), ('appearance', 3055), ('turf', 3056), ('clinching', 3057), ('justifying', 3058), ('drawing', 3059), ('eye', 3060), ('sidelined', 3061), ('chelsea', 3062), ('else', 3063), ('tell', 3064), ('imaginative', 3065), ('shaw', 3066), ('148', 3067), ('stream', 3068), ('73', 3069), ('bite', 3070), ('secondbest', 3071), ('addition', 3072), ('mariner', 3073), ('aiming', 3074), ('estimates', 3075), ('bvb', 3076), ('byungho', 3077), ('athletic', 3078), ('living', 3079), ('moment', 3080), ('establish', 3081), ('zach', 3082), ('football', 3083), ('inside', 3084), ('buzzing', 3085), ('safe', 3086), ('money', 3087), ('month', 3088), ('sunderlands', 3089), ('wazde', 3090), ('firstteamers', 3091), ('flow', 3092), ('linpeng', 3093), ('valencia', 3094), ('cornerstone', 3095), ('continental', 3096), ('attributed', 3097), ('facebook', 3098), ('ranked', 3099), ('indecisiveness', 3100), ('88', 3101), ('implicated', 3102), ('beleaguered', 3103), ('decided', 3104), ('shin', 3105), ('pundit', 3106), ('eased', 3107), ('astros', 3108), ('uptop', 3109), ('built', 3110), ('win', 3111), ('nicknamed', 3112), ('thereafter', 3113), ('323', 3114), ('determined', 3115), ('wont', 3116), ('noted', 3117), ('likely', 3118), ('middecember', 3119), ('resume', 3120), ('relegate', 3121), ('liberty', 3122), ('kind', 3123), ('glendale', 3124), ('multinational', 3125), ('prestigious', 3126), ('consistently', 3127), ('raul', 3128), ('happen', 3129), ('stature', 3130), ('prague', 3131), ('onomah', 3132), ('manager', 3133), ('affiliations', 3134), ('prince', 3135), ('kenta', 3136), ('advertising', 3137), ('familiar', 3138), ('alphabet', 3139), ('mistakes', 3140), ('elephants', 3141), ('dream', 3142), ('nats', 3143), ('salzburg', 3144), ('florence', 3145), ('anyone', 3146), ('spend', 3147), ('stepped', 3148), ('announcing', 3149), ('was', 3150), ('skill', 3151), ('exit', 3152), ('gotten', 3153), ('current', 3154), ('samurai', 3155), ('225', 3156), ('toiling', 3157), ('1285', 3158), ('jung', 3159), ('artur', 3160), ('allis', 3161), ('strained', 3162), ('west', 3163), ('punishment', 3164), ('sluggers', 3165), ('learn', 3166), ('51', 3167), ('lunchtime', 3168), ('stripling', 3169), ('reminds', 3170), ('role', 3171), ('ishikawa', 3172), ('21', 3173), ('index', 3174), ('unenviable', 3175), ('holds', 3176), ('sold', 3177), ('personal', 3178), ('triumphed', 3179), ('soccerway', 3180), ('strikeout', 3181), ('cats', 3182), ('good', 3183), ('secondranked', 3184), ('scoreline', 3185), ('bayern', 3186), ('dominant', 3187), ('sunderland', 3188), ('93rd', 3189), ('minutes', 3190), ('figuring', 3191), ('nabil', 3192), ('harper', 3193), ('concerned', 3194), ('times', 3195), ('class', 3196), ('focused', 3197), ('box', 3198), ('solution', 3199), ('troy', 3200), ('13th', 3201), ('many', 3202), ('if', 3203), ('casinos', 3204), ('pitched', 3205), ('njie', 3206), ('dealt', 3207), ('336', 3208), ('swans', 3209), ('08', 3210), ('cheer', 3211), ('asias', 3212), ('2013', 3213), ('expensive', 3214), ('competition', 3215), ('justin', 3216), ('debunk', 3217), ('3', 3218), ('contrast', 3219), ('smile', 3220), ('analyst', 3221), ('rotated', 3222), ('possession', 3223), ('outside', 3224), ('madrid', 3225), ('revealed', 3226), ('palace', 3227), ('maness', 3228), ('ride', 3229), ('pittsburghs', 3230), ('hyunjoon', 3231), ('prominent', 3232), ('26th', 3233), ('bbc', 3234), ('crown', 3235), ('swung', 3236), ('proceeding', 3237), ('preparation', 3238), ('tuesday', 3239), ('posted', 3240), ('st', 3241), ('hyunjin', 3242), ('fortunate', 3243), ('retain', 3244), ('outharry', 3245), ('stroke', 3246), ('201516', 3247), ('either', 3248), ('25th', 3249), ('kimchi', 3250), ('hammers', 3251), ('tracker', 3252), ('my', 3253), ('tend', 3254), ('unsaid', 3255), ('flyout', 3256), ('others', 3257), ('107', 3258), ('cannot', 3259), ('favorite', 3260), ('low', 3261), ('international', 3262), ('tangible', 3263), ('43rd', 3264), ('held', 3265), ('developing', 3266), ('doesnt', 3267), ('admirable', 3268), ('233', 3269), ('direct', 3270), ('lumpur', 3271), ('resigning', 3272), ('procedure', 3273), ('large', 3274), ('8th', 3275), ('293', 3276), ('primarily', 3277), ('lets', 3278), ('danger', 3279), ('likelihood', 3280), ('roberto', 3281), ('arabia', 3282), ('bryan', 3283), ('4', 3284), ('significant', 3285), ('hitless', 3286), ('southeast', 3287), ('twins', 3288), ('boasts', 3289), ('hell', 3290), ('207', 3291), ('captain', 3292), ('pitcher', 3293), ('assuming', 3294), ('followed', 3295), ('park', 3296), ('all', 3297), ('together', 3298), ('arrivals', 3299), ('flip', 3300), ('mission', 3301), ('much', 3302), ('regularstarter', 3303), ('singleton', 3304), ('plate', 3305), ('garth', 3306), ('replaced', 3307), ('penalty', 3308), ('due', 3309), ('montis', 3310), ('torn', 3311), ('bb9', 3312), ('manned', 3313), ('peter', 3314), ('absence', 3315), ('enjoyed', 3316), ('versus', 3317), ('section', 3318), ('knee', 3319), ('selfconfidence', 3320), ('300', 3321), ('allows', 3322), ('spring', 3323), ('supporting', 3324), ('terry', 3325), ('they', 3326), ('live', 3327), ('itll', 3328), ('february', 3329), ('truly', 3330), ('eight', 3331), ('leagues', 3332), ('front', 3333), ('wrap', 3334), ('division', 3335), ('atbats', 3336), ('rejected', 3337), ('precedence', 3338), ('continued', 3339), ('medal', 3340), ('cast', 3341), ('result', 3342), ('different', 3343), ('toe', 3344), ('number', 3345), ('1980', 3346), ('draws', 3347), ('lightly', 3348), ('working', 3349), ('suzuki', 3350), ('stay', 3351), ('weidenfeller', 3352), ('daughter', 3353), ('issue', 3354), ('kellys', 3355), ('hong', 3356), ('served', 3357), ('agent', 3358), ('qualifiers', 3359), ('show', 3360), ('really', 3361), ('favourite', 3362), ('dave', 3363), ('confederation', 3364), ('ismail', 3365), ('2010', 3366), ('investigated', 3367), ('tuchel', 3368), ('hanover', 3369), ('macau', 3370), ('ago', 3371), ('casino', 3372), ('1720', 3373), ('312', 3374), ('69', 3375), ('done', 3376), ('fraser', 3377), ('kleague', 3378), ('undergo', 3379), ('ever', 3380), ('diekman', 3381), ('walker', 3382), ('scream', 3383), ('regardless', 3384), ('fresh', 3385), ('foundation', 3386), ('httpenyibadacomarticles12280620160512premierleague20152016swanseacityvsmanchesterpreviewpredictionhtmixzz48qovyrym', 3387), ('rehabbing', 3388), ('lay', 3389), ('putting', 3390), ('opened', 3391), ('inning', 3392), ('displaying', 3393), ('220', 3394), ('roda', 3395), ('reverse', 3396), ('jake', 3397), ('feel', 3398), ('arms', 3399), ('write', 3400), ('usa', 3401), ('incredible', 3402), ('blasted', 3403), ('emerged', 3404), ('ho', 3405), ('embarrassing', 3406), ('outlet', 3407), ('hakcheol', 3408), ('visitors', 3409), ('surgicallyrepaired', 3410), ('american', 3411), ('struggled', 3412), ('scandal', 3413), ('lowest', 3414), ('prior', 3415), ('increasing', 3416), ('pittsburgh', 3417), ('ambitious', 3418), ('placed', 3419), ('attacking', 3420), ('miguel', 3421), ('disclosed', 3422), ('counting', 3423), ('manofthematch', 3424), ('suk', 3425), ('block', 3426), ('helped', 3427), ('httpwwwsouthwaleseveningpostcoukswanseacitymidfielderkisungyuengmissstory28670822detailstoryhtmlixzz48qp94g00', 3428), ('triple', 3429), ('charged', 3430), ('curveball', 3431), ('hopeful', 3432), ('rightback', 3433), ('dh', 3434), ('history', 3435), ('chase', 3436), ('primary', 3437), ('rightcenter', 3438), ('early', 3439), ('boxing', 3440), ('devils', 3441), ('hugo', 3442), ('program', 3443), ('job', 3444), ('jh', 3445), ('power', 3446), ('troops', 3447), ('upcoming', 3448), ('contention', 3449), ('ap', 3450), ('belt', 3451), ('americans', 3452), ('online', 3453), ('pictwittercombigvsajt1b', 3454), ('versatile', 3455), ('wristbands', 3456), ('1939', 3457), ('450', 3458), ('kfa', 3459), ('often', 3460), ('babe', 3461), ('voted', 3462), ('incentivebased', 3463), ('deploy', 3464), ('picked', 3465), ('indicative', 3466), ('runners', 3467), ('147', 3468), ('minneapolis', 3469), ('angle', 3470), ('keep', 3471), ('toledo', 3472), ('confusing', 3473), ('departed', 3474), ('campaign', 3475), ('across', 3476), ('haeyoung', 3477), ('topped', 3478), ('element', 3479), ('offensechallenged', 3480), ('striking', 3481), ('cuff', 3482), ('moving', 3483), ('hammer', 3484), ('welcomed', 3485), ('approach', 3486), ('mohamad', 3487), ('dijk', 3488), ('nearly', 3489), ('matches', 3490), ('performance', 3491), ('totally', 3492), ('improved', 3493), ('clubhouse', 3494), ('towards', 3495), ('qualifying', 3496), ('stadium', 3497), ('on', 3498), ('mostly', 3499), ('competitions', 3500), ('shamrani', 3501), ('nice', 3502), ('liverpool', 3503), ('rounding', 3504), ('trailing', 3505), ('ranch', 3506), ('hands', 3507), ('markus', 3508), ('aboard', 3509), ('dieter', 3510), ('30th', 3511), ('normal', 3512), ('image', 3513), ('goalkeeper', 3514), ('payroll', 3515), ('until', 3516), ('would', 3517), ('qatari', 3518), ('super', 3519), ('interleague', 3520), ('net', 3521), ('29yearold', 3522), ('instincts', 3523), ('201215', 3524), ('yoshida', 3525), ('wild', 3526), ('book', 3527), ('outstanding', 3528), ('readily', 3529), ('31', 3530), ('measures', 3531), ('luke', 3532), ('trick', 3533), ('qarabag', 3534), ('59th', 3535), ('fine', 3536), ('mondays', 3537), ('displayed', 3538), ('magicianif', 3539), ('softbank', 3540), ('peralta', 3541), ('age', 3542), ('fellow', 3543), ('kwak', 3544), ('summerspeaking', 3545), ('warned', 3546), ('infectious', 3547), ('association', 3548), ('relegation', 3549), ('performer', 3550), ('essweins', 3551), ('face', 3552), ('chest', 3553), ('northern', 3554), ('dealing', 3555), ('statistics', 3556), ('wolfsburg', 3557), ('minimum', 3558), ('improving', 3559), ('arm', 3560), ('seung', 3561), ('gio', 3562), ('sitting', 3563), ('sub', 3564), ('dad', 3565), ('admits', 3566), ('moves', 3567), ('here', 3568), ('steal', 3569), ('characterized', 3570), ('pinpoint', 3571), ('particularly', 3572), ('buildup', 3573), ('translate', 3574), ('152', 3575), ('18', 3576), ('jerry', 3577), ('italians', 3578), ('bigger', 3579), ('basel', 3580), ('lane', 3581), ('midweek', 3582), ('isnt', 3583), ('used', 3584), ('hwaseong', 3585), ('sainsbury', 3586), ('lowly', 3587), ('man', 3588), ('qualified', 3589), ('pardew', 3590), ('calendar', 3591), ('australian', 3592), ('guidolins', 3593), ('espn', 3594), ('confidence', 3595), ('berth', 3596), ('led', 3597), ('meaning', 3598), ('like', 3599), ('discuss', 3600), ('343', 3601), ('colby', 3602), ('seemingly', 3603), ('may', 3604), ('250pound', 3605), ('ja', 3606), ('checking', 3607), ('vientiane', 3608), ('damaging', 3609), ('base', 3610), ('lift', 3611), ('hyunjun', 3612), ('so', 3613), ('arent', 3614), ('exchanged', 3615), ('finding', 3616), ('contract', 3617), ('missing', 3618), ('66th', 3619), ('big', 3620), ('thrilling', 3621), ('averaging', 3622), ('argentinian', 3623), ('defense', 3624), ('byron', 3625), ('slew', 3626), ('gambling', 3627), ('in', 3628), ('parks', 3629), ('walk', 3630), ('cent', 3631), ('decades', 3632), ('uaes', 3633), ('meters', 3634), ('worth', 3635), ('finished', 3636), ('representing', 3637), ('sharp', 3638), ('received', 3639), ('fantasy', 3640), ('25⅓', 3641), ('forwards', 3642), ('evergrande', 3643), ('pm', 3644), ('accomplish', 3645), ('probably', 3646), ('fend', 3647), ('tomorrow', 3648), ('currently', 3649), ('prosecutors', 3650), ('occupied', 3651), ('fee', 3652), ('matheny', 3653), ('119meter', 3654), ('lloris', 3655), ('sigurdsson', 3656), ('crime', 3657), ('etienne', 3658), ('problem', 3659), ('finish', 3660), ('baseman', 3661), ('incheon', 3662), ('outfielder', 3663), ('921', 3664), ('falls', 3665), ('course', 3666), ('missed', 3667), ('qualification', 3668), ('respectively', 3669), ('path', 3670), ('aggressive', 3671), ('boruc', 3672), ('spriranovic', 3673), ('biggest', 3674), ('terrill', 3675), ('also', 3676), ('control', 3677), ('scorer', 3678), ('person', 3679), ('successive', 3680), ('anderson', 3681), ('margin', 3682), ('runner', 3683), ('pretty', 3684), ('united', 3685), ('winning', 3686), ('average', 3687), ('delivered', 3688), ('resistance', 3689), ('hitters', 3690), ('angeles', 3691), ('prospect', 3692), ('summer', 3693), ('opted', 3694), ('streaks', 3695), ('typically', 3696), ('things', 3697), ('offseason', 3698), ('another', 3699), ('won', 3700), ('oblique', 3701), ('heads', 3702), ('reports', 3703), ('collect', 3704), ('restart', 3705), ('regularseason', 3706), ('any', 3707), ('places', 3708), ('34', 3709), ('433', 3710), ('upton', 3711), ('pressurepacked', 3712), ('building', 3713), ('coach', 3714), ('settled', 3715), ('thigh', 3716), ('resources', 3717), ('bourjos', 3718), ('adams', 3719), ('mousa', 3720), ('192', 3721), ('offense', 3722), ('breakout', 3723), ('preached', 3724), ('illegal', 3725), ('winners', 3726), ('judging', 3727), ('stephen', 3728), ('plays', 3729), ('beat', 3730), ('chadli', 3731), ('visiting', 3732), ('doing', 3733), ('joo', 3734), ('phillies', 3735), ('london', 3736), ('hit', 3737), ('portuguese', 3738), ('pointers', 3739), ('neighboursif', 3740), ('none', 3741), ('familiarity', 3742), ('technically', 3743), ('less', 3744), ('seats', 3745), ('danny', 3746), ('sano', 3747), ('causing', 3748), ('wasnt', 3749), ('outfit', 3750), ('accused', 3751), ('minnesotas', 3752), ('again', 3753), ('prize', 3754), ('agents', 3755), ('seth', 3756), ('flukes', 3757), ('following', 3758), ('longer', 3759), ('ability', 3760), ('deal', 3761), ('defeats', 3762), ('knocked', 3763), ('trent', 3764), ('spin', 3765), ('grown', 3766), ('sport', 3767), ('naughton', 3768), ('neither', 3769), ('runs', 3770), ('gave', 3771), ('step', 3772), ('mariners', 3773), ('to', 3774), ('full', 3775), ('jones', 3776), ('51stminute', 3777), ('jetfuelled', 3778), ('keen', 3779), ('chicago', 3780), ('still', 3781), ('kershaw', 3782), ('total', 3783), ('defender', 3784), ('get', 3785), ('related', 3786), ('heartbeat', 3787), ('jumped', 3788), ('joy', 3789), ('dodger', 3790), ('above', 3791), ('roll', 3792), ('maeda', 3793), ('short', 3794), ('han', 3795), ('delino', 3796), ('via', 3797), ('measure', 3798), ('12', 3799), ('24', 3800), ('fitness', 3801), ('timing', 3802), ('steve', 3803), ('he', 3804), ('guidolin', 3805), ('previous', 3806), ('hosts', 3807), ('partly', 3808), ('calmly', 3809), ('talented', 3810), ('celebration', 3811), ('kazmir', 3812), ('investigation', 3813), ('defence', 3814), ('threat', 3815), ('nam', 3816), ('samsung', 3817), ('oneyear', 3818), ('only', 3819), ('size', 3820), ('lasts', 3821), ('scoresheet', 3822), ('jokes', 3823), ('although', 3824), ('benched', 3825), ('vorerst', 3826), ('heroics', 3827), ('while', 3828), ('homeland', 3829), ('stage', 3830), ('awake', 3831), ('professional', 3832), ('touch', 3833), ('shoes', 3834), ('corner', 3835), ('host', 3836), ('arrives', 3837), ('having', 3838), ('recruit', 3839), ('prove', 3840), ('love', 3841), ('along', 3842), ('within', 3843), ('44th', 3844), ('mm', 3845), ('road', 3846), ('undisclosed', 3847), ('childhood', 3848), ('finnbogasons', 3849), ('fact', 3850), ('iraqi', 3851), ('muscled', 3852), ('remain', 3853), ('case', 3854), ('target', 3855), ('harder', 3856), ('raising', 3857), ('deshields', 3858), ('oneonone', 3859), ('sanos', 3860), ('changyong', 3861), ('roster', 3862), ('en', 3863), ('testing', 3864), ('frisson', 3865), ('entering', 3866), ('transitions', 3867), ('156', 3868), ('thinking', 3869), ('something', 3870), ('kingsley', 3871), ('adapting', 3872), ('hoped', 3873), ('sentiment', 3874), ('camelback', 3875), ('newest', 3876), ('6461', 3877), ('asked', 3878), ('sites', 3879), ('came', 3880), ('encounter', 3881), ('span', 3882), ('tricks', 3883), ('quarterfinals', 3884), ('busy', 3885), ('midseason', 3886), ('hwan', 3887), ('valuable', 3888), ('arbitration', 3889), ('term', 3890), ('fouled', 3891), ('dfbpokal', 3892), ('according', 3893), ('heaney', 3894), ('majestic', 3895), ('president', 3896), ('lotte', 3897), ('bluewaves', 3898), ('achieved', 3899), ('satisfied', 3900), ('mud', 3901), ('90mile', 3902), ('reza', 3903), ('despite', 3904), ('stop', 3905), ('fined', 3906), ('bluewings', 3907), ('de', 3908), ('quoted', 3909), ('feeling', 3910), ('legs', 3911), ('microcosm', 3912), ('perspectiveson', 3913), ('blast', 3914), ('realise', 3915), ('definitely', 3916), ('outlets', 3917), ('shoulder', 3918), ('sense', 3919), ('maatouk', 3920), ('claimed', 3921), ('septembers', 3922), ('indianapolis', 3923), ('yahoo', 3924), ('ji', 3925), ('dwight', 3926), ('assistant', 3927), ('terms', 3928), ('cautious', 3929), ('fukuoka', 3930), ('140', 3931), ('mend', 3932), ('physical', 3933), ('strain', 3934), ('120', 3935), ('work', 3936), ('espns', 3937), ('trippier', 3938), ('pitchfx', 3939), ('aussie', 3940), ('almost', 3941), ('90', 3942), ('take', 3943), ('wednesday', 3944), ('appears', 3945), ('7103', 3946), ('starts', 3947), ('jeonghohong', 3948), ('sizable', 3949), ('circuitous', 3950), ('obviously', 3951), ('caught', 3952), ('lee', 3953), ('motivate', 3954), ('historically', 3955), ('heading', 3956), ('carried', 3957), ('compromise', 3958), ('playersonly', 3959), ('protective', 3960), ('service', 3961), ('antonetti', 3962), ('inevitably', 3963), ('era', 3964), ('kuala', 3965), ('150', 3966), ('is', 3967), ('shape', 3968), ('tuesdays', 3969), ('regularly', 3970), ('christian', 3971), ('227288561', 3972), ('dr', 3973), ('citizens', 3974), ('magazine', 3975), ('075', 3976), ('karns', 3977), ('belgians', 3978), ('batter', 3979), ('think', 3980), ('improve', 3981), ('continent', 3982), ('staff', 3983), ('situation', 3984), ('touched', 3985), ('frontline', 3986), ('finds', 3987), ('lowintensity', 3988), ('reasons', 3989), ('prosecution', 3990), ('mainz', 3991), ('pitching', 3992), ('hotspur', 3993), ('approval', 3994), ('jump', 3995), ('mphplus', 3996), ('defeat', 3997), ('sincenotably', 3998), ('giroud', 3999), ('2for21', 4000), ('slugger', 4001), ('brings', 4002), ('light', 4003), ('georg', 4004), ('httpwwwsouthwaleseveningpostcoukswanseacitymidfielderkisungyuengdemandsstory28363644detailstoryhtmlixzz48qqjumpt', 4005), ('wondered', 4006), ('borussias', 4007), ('side', 4008), ('withdrawn', 4009), ('pacebypace', 4010), ('lefties', 4011), ('own', 4012), ('majors', 4013), ('opponents', 4014), ('11th', 4015), ('years', 4016), ('worstcase', 4017), ('maximising', 4018), ('72', 4019), ('favourites', 4020), ('perspective', 4021), ('celebrated', 4022), ('believe', 4023)])\n"
     ]
    }
   ],
   "source": [
    "# 파일을 불러오기\n",
    "import os\n",
    "\n",
    "def get_file_list(dir_name):\n",
    "    return os.listdir(dir_name)\n",
    "\n",
    "if __name__==\"__main__\":\n",
    "    dir_name = \"news_data\"\n",
    "    file_list = get_file_list(dir_name)\n",
    "    file_list = [ os.path.join(dir_name, file_name) for file_name in file_list]\n",
    "    #print(len(file_list))\n",
    "    \n",
    "    X_text, y_class = get_contents(file_list)\n",
    "    #print(X_text[1])\n",
    "    \n",
    "    corpus = get_corpus_dict(X_text)\n",
    "    print(corpus)"
   ]
  },
  {
   "cell_type": "code",
   "execution_count": 111,
   "metadata": {},
   "outputs": [
    {
     "data": {
      "text/plain": [
       "['1_Dae-Ho Lee walk-off homer gives Mariners 4-2 win over Rangers.txt',\n",
       " '1_Korean First Baseman Dae-Ho Lee Becomes Free Agent, Interested In MLB Deal.txt',\n",
       " '1_Lee Dae-ho Announces MLB Aspirations.txt',\n",
       " '1_Lee Dae-ho to Start Spring Training in Arizona.txt',\n",
       " '1_Lee Dae-ho wins MVP in Japan Series.txt']"
      ]
     },
     "execution_count": 111,
     "metadata": {},
     "output_type": "execute_result"
    }
   ],
   "source": [
    "get_file_list(\"news_data\")[:5]"
   ]
  },
  {
   "cell_type": "code",
   "execution_count": 114,
   "metadata": {},
   "outputs": [],
   "source": [
    "# 파일별로 내용읽기\n",
    "def get_contents(file_list):\n",
    "    y_class=[]\n",
    "    X_text=[]\n",
    "    class_dict = {1:\"0\", 2:\"0\", 3:\"0\", 4:\"0\", 5:\"1\", 6:\"1\", 7:\"1\", 8:\"1\" } # 0 : 야구, 1 : 축구\n",
    "    \n",
    "    for file_name in file_list:\n",
    "        try:\n",
    "            f = open(file_name,\"r\",encoding=\"cp949\")\n",
    "            category = int(file_name.split(os.sep)[1].split(\"_\")[0])\n",
    "            y_class.append(class_dict[category]) # y_class에 1이 40개 0이 40개여야 한다\n",
    "            X_text.append(f.read()) # X_text가 80개여야 한다\n",
    "            f.close()\n",
    "        except UnicodeDecodeError as e:\n",
    "            print(e)\n",
    "            print(file_name)\n",
    "    return X_text, y_class"
   ]
  },
  {
   "cell_type": "code",
   "execution_count": null,
   "metadata": {},
   "outputs": [],
   "source": []
  },
  {
   "cell_type": "code",
   "execution_count": null,
   "metadata": {},
   "outputs": [],
   "source": []
  },
  {
   "cell_type": "code",
   "execution_count": null,
   "metadata": {},
   "outputs": [],
   "source": []
  },
  {
   "cell_type": "markdown",
   "metadata": {},
   "source": [
    "### [2]. 파일을 읽어서 단어사전 ( corpus )를 만들기"
   ]
  },
  {
   "cell_type": "code",
   "execution_count": 123,
   "metadata": {},
   "outputs": [],
   "source": [
    "def get_cleaned_text(text): # 의미 없는 문장보호 등은 제거하기\n",
    "    import re\n",
    "    text = re.sub('\\W+','',text.lower())\n",
    "    return text"
   ]
  },
  {
   "cell_type": "code",
   "execution_count": 124,
   "metadata": {},
   "outputs": [
    {
     "data": {
      "text/plain": [
       "'imyours'"
      ]
     },
     "execution_count": 124,
     "metadata": {},
     "output_type": "execute_result"
    }
   ],
   "source": [
    "get_cleaned_text(\"I' m yours\")"
   ]
  },
  {
   "cell_type": "code",
   "execution_count": 132,
   "metadata": {},
   "outputs": [],
   "source": [
    "def get_corpus_dict(text):\n",
    "    text = [sentence.split() for sentence in text]\n",
    "    cleaned_words = [get_cleaned_text(word) for words in text for word in words ]\n",
    "    \n",
    "    from collections import OrderedDict\n",
    "    corpus_dict = OrderedDict()\n",
    "    for i,v in enumerate(set(cleaned_words)):\n",
    "        corpus_dict[v] = i\n",
    "    return corpus_dict"
   ]
  },
  {
   "cell_type": "markdown",
   "metadata": {},
   "source": [
    "### [3]. 단어별로 Index 만들기"
   ]
  },
  {
   "cell_type": "markdown",
   "metadata": {},
   "source": [
    "### [4]. 만들어진 인덱스로 문서별로 Bag of words vector 생성"
   ]
  },
  {
   "cell_type": "markdown",
   "metadata": {},
   "source": [
    "### [5]. 비교하고자 하는 문서 비교하기"
   ]
  },
  {
   "cell_type": "markdown",
   "metadata": {},
   "source": [
    "### [6]. 얼마나 맞는지 측정하기"
   ]
  },
  {
   "cell_type": "code",
   "execution_count": null,
   "metadata": {},
   "outputs": [],
   "source": []
  }
 ],
 "metadata": {
  "kernelspec": {
   "display_name": "Python 3",
   "language": "python",
   "name": "python3"
  },
  "language_info": {
   "codemirror_mode": {
    "name": "ipython",
    "version": 3
   },
   "file_extension": ".py",
   "mimetype": "text/x-python",
   "name": "python",
   "nbconvert_exporter": "python",
   "pygments_lexer": "ipython3",
   "version": "3.7.9"
  }
 },
 "nbformat": 4,
 "nbformat_minor": 4
}
